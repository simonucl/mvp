{
 "cells": [
  {
   "cell_type": "code",
   "execution_count": 1,
   "metadata": {},
   "outputs": [],
   "source": [
    "from transformers import AutoTokenizer, AutoModelForCausalLM\n",
    "from transformers import LlamaTokenizer, LlamaForCausalLM\n",
    "import torch\n",
    "\n",
    "import os\n",
    "os.environ[\"CUDA_VISIBLE_DEVICES\"] = \"0\""
   ]
  },
  {
   "cell_type": "markdown",
   "metadata": {
    "jp-MarkdownHeadingCollapsed": true
   },
   "source": [
    "### Check for flash attention"
   ]
  },
  {
   "cell_type": "code",
   "execution_count": 2,
   "metadata": {},
   "outputs": [
    {
     "name": "stderr",
     "output_type": "stream",
     "text": [
      "Downloading (…)okenizer_config.json: 100%|██████████| 1.62k/1.62k [00:00<00:00, 430kB/s]\n",
      "Downloading tokenizer.model: 100%|██████████| 500k/500k [00:00<00:00, 6.84MB/s]\n",
      "Downloading (…)cial_tokens_map.json: 100%|██████████| 414/414 [00:00<00:00, 394kB/s]\n",
      "Downloading (…)/main/tokenizer.json: 100%|██████████| 1.84M/1.84M [00:00<00:00, 5.71MB/s]\n",
      "Downloading (…)lve/main/config.json: 100%|██████████| 614/614 [00:00<00:00, 322kB/s]\n",
      "Downloading (…)fetensors.index.json: 100%|██████████| 26.8k/26.8k [00:00<00:00, 21.1MB/s]\n",
      "Downloading shards:   0%|          | 0/2 [00:06<?, ?it/s]\n"
     ]
    },
    {
     "ename": "KeyboardInterrupt",
     "evalue": "",
     "output_type": "error",
     "traceback": [
      "\u001b[0;31m---------------------------------------------------------------------------\u001b[0m",
      "\u001b[0;31mKeyboardInterrupt\u001b[0m                         Traceback (most recent call last)",
      "\u001b[1;32m/mnt/ceph_rbd/mvp/src/test.ipynb Cell 3\u001b[0m line \u001b[0;36m5\n\u001b[1;32m      <a href='vscode-notebook-cell://ssh-remote%2Bpod_2/mnt/ceph_rbd/mvp/src/test.ipynb#W2sdnNjb2RlLXJlbW90ZQ%3D%3D?line=2'>3</a>\u001b[0m tokenizer\u001b[39m.\u001b[39mpad_token \u001b[39m=\u001b[39m tokenizer\u001b[39m.\u001b[39meos_token\n\u001b[1;32m      <a href='vscode-notebook-cell://ssh-remote%2Bpod_2/mnt/ceph_rbd/mvp/src/test.ipynb#W2sdnNjb2RlLXJlbW90ZQ%3D%3D?line=3'>4</a>\u001b[0m \u001b[39m# model = LlamaForCausalLM.from_pretrained(model_id, device_map={\"\":0},use_flash_attention_2=True)\u001b[39;00m\n\u001b[0;32m----> <a href='vscode-notebook-cell://ssh-remote%2Bpod_2/mnt/ceph_rbd/mvp/src/test.ipynb#W2sdnNjb2RlLXJlbW90ZQ%3D%3D?line=4'>5</a>\u001b[0m model \u001b[39m=\u001b[39m LlamaForCausalLM\u001b[39m.\u001b[39;49mfrom_pretrained(model_id, device_map\u001b[39m=\u001b[39;49m{\u001b[39m\"\u001b[39;49m\u001b[39m\"\u001b[39;49m:\u001b[39m0\u001b[39;49m})\n\u001b[1;32m      <a href='vscode-notebook-cell://ssh-remote%2Bpod_2/mnt/ceph_rbd/mvp/src/test.ipynb#W2sdnNjb2RlLXJlbW90ZQ%3D%3D?line=5'>6</a>\u001b[0m flash_attn_model \u001b[39m=\u001b[39m LlamaForCausalLM\u001b[39m.\u001b[39mfrom_pretrained(model_id, device_map\u001b[39m=\u001b[39m{\u001b[39m\"\u001b[39m\u001b[39m\"\u001b[39m:\u001b[39m0\u001b[39m},use_flash_attention_2\u001b[39m=\u001b[39m\u001b[39mTrue\u001b[39;00m)\n",
      "File \u001b[0;32m~/miniconda3/envs/robust/lib/python3.8/site-packages/transformers/modeling_utils.py:3000\u001b[0m, in \u001b[0;36mPreTrainedModel.from_pretrained\u001b[0;34m(cls, pretrained_model_name_or_path, config, cache_dir, ignore_mismatched_sizes, force_download, local_files_only, token, revision, use_safetensors, *model_args, **kwargs)\u001b[0m\n\u001b[1;32m   2997\u001b[0m \u001b[39m# We'll need to download and cache each checkpoint shard if the checkpoint is sharded.\u001b[39;00m\n\u001b[1;32m   2998\u001b[0m \u001b[39mif\u001b[39;00m is_sharded:\n\u001b[1;32m   2999\u001b[0m     \u001b[39m# rsolved_archive_file becomes a list of files that point to the different checkpoint shards in this case.\u001b[39;00m\n\u001b[0;32m-> 3000\u001b[0m     resolved_archive_file, sharded_metadata \u001b[39m=\u001b[39m get_checkpoint_shard_files(\n\u001b[1;32m   3001\u001b[0m         pretrained_model_name_or_path,\n\u001b[1;32m   3002\u001b[0m         resolved_archive_file,\n\u001b[1;32m   3003\u001b[0m         cache_dir\u001b[39m=\u001b[39;49mcache_dir,\n\u001b[1;32m   3004\u001b[0m         force_download\u001b[39m=\u001b[39;49mforce_download,\n\u001b[1;32m   3005\u001b[0m         proxies\u001b[39m=\u001b[39;49mproxies,\n\u001b[1;32m   3006\u001b[0m         resume_download\u001b[39m=\u001b[39;49mresume_download,\n\u001b[1;32m   3007\u001b[0m         local_files_only\u001b[39m=\u001b[39;49mlocal_files_only,\n\u001b[1;32m   3008\u001b[0m         token\u001b[39m=\u001b[39;49mtoken,\n\u001b[1;32m   3009\u001b[0m         user_agent\u001b[39m=\u001b[39;49muser_agent,\n\u001b[1;32m   3010\u001b[0m         revision\u001b[39m=\u001b[39;49mrevision,\n\u001b[1;32m   3011\u001b[0m         subfolder\u001b[39m=\u001b[39;49msubfolder,\n\u001b[1;32m   3012\u001b[0m         _commit_hash\u001b[39m=\u001b[39;49mcommit_hash,\n\u001b[1;32m   3013\u001b[0m     )\n\u001b[1;32m   3015\u001b[0m \u001b[39m# load pt weights early so that we know which dtype to init the model under\u001b[39;00m\n\u001b[1;32m   3016\u001b[0m \u001b[39mif\u001b[39;00m from_pt:\n",
      "File \u001b[0;32m~/miniconda3/envs/robust/lib/python3.8/site-packages/transformers/utils/hub.py:1040\u001b[0m, in \u001b[0;36mget_checkpoint_shard_files\u001b[0;34m(pretrained_model_name_or_path, index_filename, cache_dir, force_download, proxies, resume_download, local_files_only, token, user_agent, revision, subfolder, _commit_hash, **deprecated_kwargs)\u001b[0m\n\u001b[1;32m   1037\u001b[0m \u001b[39mfor\u001b[39;00m shard_filename \u001b[39min\u001b[39;00m tqdm(shard_filenames, desc\u001b[39m=\u001b[39m\u001b[39m\"\u001b[39m\u001b[39mDownloading shards\u001b[39m\u001b[39m\"\u001b[39m, disable\u001b[39m=\u001b[39m\u001b[39mnot\u001b[39;00m show_progress_bar):\n\u001b[1;32m   1038\u001b[0m     \u001b[39mtry\u001b[39;00m:\n\u001b[1;32m   1039\u001b[0m         \u001b[39m# Load from URL\u001b[39;00m\n\u001b[0;32m-> 1040\u001b[0m         cached_filename \u001b[39m=\u001b[39m cached_file(\n\u001b[1;32m   1041\u001b[0m             pretrained_model_name_or_path,\n\u001b[1;32m   1042\u001b[0m             shard_filename,\n\u001b[1;32m   1043\u001b[0m             cache_dir\u001b[39m=\u001b[39;49mcache_dir,\n\u001b[1;32m   1044\u001b[0m             force_download\u001b[39m=\u001b[39;49mforce_download,\n\u001b[1;32m   1045\u001b[0m             proxies\u001b[39m=\u001b[39;49mproxies,\n\u001b[1;32m   1046\u001b[0m             resume_download\u001b[39m=\u001b[39;49mresume_download,\n\u001b[1;32m   1047\u001b[0m             local_files_only\u001b[39m=\u001b[39;49mlocal_files_only,\n\u001b[1;32m   1048\u001b[0m             token\u001b[39m=\u001b[39;49mtoken,\n\u001b[1;32m   1049\u001b[0m             user_agent\u001b[39m=\u001b[39;49muser_agent,\n\u001b[1;32m   1050\u001b[0m             revision\u001b[39m=\u001b[39;49mrevision,\n\u001b[1;32m   1051\u001b[0m             subfolder\u001b[39m=\u001b[39;49msubfolder,\n\u001b[1;32m   1052\u001b[0m             _commit_hash\u001b[39m=\u001b[39;49m_commit_hash,\n\u001b[1;32m   1053\u001b[0m         )\n\u001b[1;32m   1054\u001b[0m     \u001b[39m# We have already dealt with RepositoryNotFoundError and RevisionNotFoundError when getting the index, so\u001b[39;00m\n\u001b[1;32m   1055\u001b[0m     \u001b[39m# we don't have to catch them here.\u001b[39;00m\n\u001b[1;32m   1056\u001b[0m     \u001b[39mexcept\u001b[39;00m EntryNotFoundError:\n",
      "File \u001b[0;32m~/miniconda3/envs/robust/lib/python3.8/site-packages/transformers/utils/hub.py:429\u001b[0m, in \u001b[0;36mcached_file\u001b[0;34m(path_or_repo_id, filename, cache_dir, force_download, resume_download, proxies, token, revision, local_files_only, subfolder, repo_type, user_agent, _raise_exceptions_for_missing_entries, _raise_exceptions_for_connection_errors, _commit_hash, **deprecated_kwargs)\u001b[0m\n\u001b[1;32m    426\u001b[0m user_agent \u001b[39m=\u001b[39m http_user_agent(user_agent)\n\u001b[1;32m    427\u001b[0m \u001b[39mtry\u001b[39;00m:\n\u001b[1;32m    428\u001b[0m     \u001b[39m# Load from URL or cache if already cached\u001b[39;00m\n\u001b[0;32m--> 429\u001b[0m     resolved_file \u001b[39m=\u001b[39m hf_hub_download(\n\u001b[1;32m    430\u001b[0m         path_or_repo_id,\n\u001b[1;32m    431\u001b[0m         filename,\n\u001b[1;32m    432\u001b[0m         subfolder\u001b[39m=\u001b[39;49m\u001b[39mNone\u001b[39;49;00m \u001b[39mif\u001b[39;49;00m \u001b[39mlen\u001b[39;49m(subfolder) \u001b[39m==\u001b[39;49m \u001b[39m0\u001b[39;49m \u001b[39melse\u001b[39;49;00m subfolder,\n\u001b[1;32m    433\u001b[0m         repo_type\u001b[39m=\u001b[39;49mrepo_type,\n\u001b[1;32m    434\u001b[0m         revision\u001b[39m=\u001b[39;49mrevision,\n\u001b[1;32m    435\u001b[0m         cache_dir\u001b[39m=\u001b[39;49mcache_dir,\n\u001b[1;32m    436\u001b[0m         user_agent\u001b[39m=\u001b[39;49muser_agent,\n\u001b[1;32m    437\u001b[0m         force_download\u001b[39m=\u001b[39;49mforce_download,\n\u001b[1;32m    438\u001b[0m         proxies\u001b[39m=\u001b[39;49mproxies,\n\u001b[1;32m    439\u001b[0m         resume_download\u001b[39m=\u001b[39;49mresume_download,\n\u001b[1;32m    440\u001b[0m         token\u001b[39m=\u001b[39;49mtoken,\n\u001b[1;32m    441\u001b[0m         local_files_only\u001b[39m=\u001b[39;49mlocal_files_only,\n\u001b[1;32m    442\u001b[0m     )\n\u001b[1;32m    443\u001b[0m \u001b[39mexcept\u001b[39;00m GatedRepoError \u001b[39mas\u001b[39;00m e:\n\u001b[1;32m    444\u001b[0m     \u001b[39mraise\u001b[39;00m \u001b[39mEnvironmentError\u001b[39;00m(\n\u001b[1;32m    445\u001b[0m         \u001b[39m\"\u001b[39m\u001b[39mYou are trying to access a gated repo.\u001b[39m\u001b[39m\\n\u001b[39;00m\u001b[39mMake sure to request access at \u001b[39m\u001b[39m\"\u001b[39m\n\u001b[1;32m    446\u001b[0m         \u001b[39mf\u001b[39m\u001b[39m\"\u001b[39m\u001b[39mhttps://huggingface.co/\u001b[39m\u001b[39m{\u001b[39;00mpath_or_repo_id\u001b[39m}\u001b[39;00m\u001b[39m and pass a token having permission to this repo either \u001b[39m\u001b[39m\"\u001b[39m\n\u001b[1;32m    447\u001b[0m         \u001b[39m\"\u001b[39m\u001b[39mby logging in with `huggingface-cli login` or by passing `token=<your_token>`.\u001b[39m\u001b[39m\"\u001b[39m\n\u001b[1;32m    448\u001b[0m     ) \u001b[39mfrom\u001b[39;00m \u001b[39me\u001b[39;00m\n",
      "File \u001b[0;32m~/miniconda3/envs/robust/lib/python3.8/site-packages/huggingface_hub/utils/_validators.py:118\u001b[0m, in \u001b[0;36mvalidate_hf_hub_args.<locals>._inner_fn\u001b[0;34m(*args, **kwargs)\u001b[0m\n\u001b[1;32m    115\u001b[0m \u001b[39mif\u001b[39;00m check_use_auth_token:\n\u001b[1;32m    116\u001b[0m     kwargs \u001b[39m=\u001b[39m smoothly_deprecate_use_auth_token(fn_name\u001b[39m=\u001b[39mfn\u001b[39m.\u001b[39m\u001b[39m__name__\u001b[39m, has_token\u001b[39m=\u001b[39mhas_token, kwargs\u001b[39m=\u001b[39mkwargs)\n\u001b[0;32m--> 118\u001b[0m \u001b[39mreturn\u001b[39;00m fn(\u001b[39m*\u001b[39;49margs, \u001b[39m*\u001b[39;49m\u001b[39m*\u001b[39;49mkwargs)\n",
      "File \u001b[0;32m~/miniconda3/envs/robust/lib/python3.8/site-packages/huggingface_hub/file_download.py:1431\u001b[0m, in \u001b[0;36mhf_hub_download\u001b[0;34m(repo_id, filename, subfolder, repo_type, revision, endpoint, library_name, library_version, cache_dir, local_dir, local_dir_use_symlinks, user_agent, force_download, force_filename, proxies, etag_timeout, resume_download, token, local_files_only, legacy_cache_layout)\u001b[0m\n\u001b[1;32m   1428\u001b[0m         \u001b[39mif\u001b[39;00m local_dir \u001b[39mis\u001b[39;00m \u001b[39mnot\u001b[39;00m \u001b[39mNone\u001b[39;00m:\n\u001b[1;32m   1429\u001b[0m             _check_disk_space(expected_size, local_dir)\n\u001b[0;32m-> 1431\u001b[0m     http_get(\n\u001b[1;32m   1432\u001b[0m         url_to_download,\n\u001b[1;32m   1433\u001b[0m         temp_file,\n\u001b[1;32m   1434\u001b[0m         proxies\u001b[39m=\u001b[39;49mproxies,\n\u001b[1;32m   1435\u001b[0m         resume_size\u001b[39m=\u001b[39;49mresume_size,\n\u001b[1;32m   1436\u001b[0m         headers\u001b[39m=\u001b[39;49mheaders,\n\u001b[1;32m   1437\u001b[0m         expected_size\u001b[39m=\u001b[39;49mexpected_size,\n\u001b[1;32m   1438\u001b[0m     )\n\u001b[1;32m   1440\u001b[0m \u001b[39mif\u001b[39;00m local_dir \u001b[39mis\u001b[39;00m \u001b[39mNone\u001b[39;00m:\n\u001b[1;32m   1441\u001b[0m     logger\u001b[39m.\u001b[39minfo(\u001b[39mf\u001b[39m\u001b[39m\"\u001b[39m\u001b[39mStoring \u001b[39m\u001b[39m{\u001b[39;00murl\u001b[39m}\u001b[39;00m\u001b[39m in cache at \u001b[39m\u001b[39m{\u001b[39;00mblob_path\u001b[39m}\u001b[39;00m\u001b[39m\"\u001b[39m)\n",
      "File \u001b[0;32m~/miniconda3/envs/robust/lib/python3.8/site-packages/huggingface_hub/file_download.py:551\u001b[0m, in \u001b[0;36mhttp_get\u001b[0;34m(url, temp_file, proxies, resume_size, headers, timeout, max_retries, expected_size)\u001b[0m\n\u001b[1;32m    541\u001b[0m     displayed_name \u001b[39m=\u001b[39m \u001b[39mf\u001b[39m\u001b[39m\"\u001b[39m\u001b[39m(…)\u001b[39m\u001b[39m{\u001b[39;00mdisplayed_name[\u001b[39m-\u001b[39m\u001b[39m20\u001b[39m:]\u001b[39m}\u001b[39;00m\u001b[39m\"\u001b[39m\n\u001b[1;32m    543\u001b[0m progress \u001b[39m=\u001b[39m tqdm(\n\u001b[1;32m    544\u001b[0m     unit\u001b[39m=\u001b[39m\u001b[39m\"\u001b[39m\u001b[39mB\u001b[39m\u001b[39m\"\u001b[39m,\n\u001b[1;32m    545\u001b[0m     unit_scale\u001b[39m=\u001b[39m\u001b[39mTrue\u001b[39;00m,\n\u001b[0;32m   (...)\u001b[0m\n\u001b[1;32m    549\u001b[0m     disable\u001b[39m=\u001b[39m\u001b[39mbool\u001b[39m(logger\u001b[39m.\u001b[39mgetEffectiveLevel() \u001b[39m==\u001b[39m logging\u001b[39m.\u001b[39mNOTSET),\n\u001b[1;32m    550\u001b[0m )\n\u001b[0;32m--> 551\u001b[0m \u001b[39mfor\u001b[39;00m chunk \u001b[39min\u001b[39;00m r\u001b[39m.\u001b[39miter_content(chunk_size\u001b[39m=\u001b[39m\u001b[39m10\u001b[39m \u001b[39m*\u001b[39m \u001b[39m1024\u001b[39m \u001b[39m*\u001b[39m \u001b[39m1024\u001b[39m):\n\u001b[1;32m    552\u001b[0m     \u001b[39mif\u001b[39;00m chunk:  \u001b[39m# filter out keep-alive new chunks\u001b[39;00m\n\u001b[1;32m    553\u001b[0m         progress\u001b[39m.\u001b[39mupdate(\u001b[39mlen\u001b[39m(chunk))\n",
      "File \u001b[0;32m~/miniconda3/envs/robust/lib/python3.8/site-packages/requests/models.py:816\u001b[0m, in \u001b[0;36mResponse.iter_content.<locals>.generate\u001b[0;34m()\u001b[0m\n\u001b[1;32m    814\u001b[0m \u001b[39mif\u001b[39;00m \u001b[39mhasattr\u001b[39m(\u001b[39mself\u001b[39m\u001b[39m.\u001b[39mraw, \u001b[39m\"\u001b[39m\u001b[39mstream\u001b[39m\u001b[39m\"\u001b[39m):\n\u001b[1;32m    815\u001b[0m     \u001b[39mtry\u001b[39;00m:\n\u001b[0;32m--> 816\u001b[0m         \u001b[39myield from\u001b[39;00m \u001b[39mself\u001b[39m\u001b[39m.\u001b[39mraw\u001b[39m.\u001b[39mstream(chunk_size, decode_content\u001b[39m=\u001b[39m\u001b[39mTrue\u001b[39;00m)\n\u001b[1;32m    817\u001b[0m     \u001b[39mexcept\u001b[39;00m ProtocolError \u001b[39mas\u001b[39;00m e:\n\u001b[1;32m    818\u001b[0m         \u001b[39mraise\u001b[39;00m ChunkedEncodingError(e)\n",
      "File \u001b[0;32m~/miniconda3/envs/robust/lib/python3.8/site-packages/urllib3/response.py:628\u001b[0m, in \u001b[0;36mHTTPResponse.stream\u001b[0;34m(self, amt, decode_content)\u001b[0m\n\u001b[1;32m    626\u001b[0m \u001b[39melse\u001b[39;00m:\n\u001b[1;32m    627\u001b[0m     \u001b[39mwhile\u001b[39;00m \u001b[39mnot\u001b[39;00m is_fp_closed(\u001b[39mself\u001b[39m\u001b[39m.\u001b[39m_fp):\n\u001b[0;32m--> 628\u001b[0m         data \u001b[39m=\u001b[39m \u001b[39mself\u001b[39;49m\u001b[39m.\u001b[39;49mread(amt\u001b[39m=\u001b[39;49mamt, decode_content\u001b[39m=\u001b[39;49mdecode_content)\n\u001b[1;32m    630\u001b[0m         \u001b[39mif\u001b[39;00m data:\n\u001b[1;32m    631\u001b[0m             \u001b[39myield\u001b[39;00m data\n",
      "File \u001b[0;32m~/miniconda3/envs/robust/lib/python3.8/site-packages/urllib3/response.py:567\u001b[0m, in \u001b[0;36mHTTPResponse.read\u001b[0;34m(self, amt, decode_content, cache_content)\u001b[0m\n\u001b[1;32m    564\u001b[0m fp_closed \u001b[39m=\u001b[39m \u001b[39mgetattr\u001b[39m(\u001b[39mself\u001b[39m\u001b[39m.\u001b[39m_fp, \u001b[39m\"\u001b[39m\u001b[39mclosed\u001b[39m\u001b[39m\"\u001b[39m, \u001b[39mFalse\u001b[39;00m)\n\u001b[1;32m    566\u001b[0m \u001b[39mwith\u001b[39;00m \u001b[39mself\u001b[39m\u001b[39m.\u001b[39m_error_catcher():\n\u001b[0;32m--> 567\u001b[0m     data \u001b[39m=\u001b[39m \u001b[39mself\u001b[39;49m\u001b[39m.\u001b[39;49m_fp_read(amt) \u001b[39mif\u001b[39;00m \u001b[39mnot\u001b[39;00m fp_closed \u001b[39melse\u001b[39;00m \u001b[39mb\u001b[39m\u001b[39m\"\u001b[39m\u001b[39m\"\u001b[39m\n\u001b[1;32m    568\u001b[0m     \u001b[39mif\u001b[39;00m amt \u001b[39mis\u001b[39;00m \u001b[39mNone\u001b[39;00m:\n\u001b[1;32m    569\u001b[0m         flush_decoder \u001b[39m=\u001b[39m \u001b[39mTrue\u001b[39;00m\n",
      "File \u001b[0;32m~/miniconda3/envs/robust/lib/python3.8/site-packages/urllib3/response.py:525\u001b[0m, in \u001b[0;36mHTTPResponse._fp_read\u001b[0;34m(self, amt)\u001b[0m\n\u001b[1;32m    523\u001b[0m \u001b[39melse\u001b[39;00m:\n\u001b[1;32m    524\u001b[0m     chunk_amt \u001b[39m=\u001b[39m max_chunk_amt\n\u001b[0;32m--> 525\u001b[0m data \u001b[39m=\u001b[39m \u001b[39mself\u001b[39;49m\u001b[39m.\u001b[39;49m_fp\u001b[39m.\u001b[39;49mread(chunk_amt)\n\u001b[1;32m    526\u001b[0m \u001b[39mif\u001b[39;00m \u001b[39mnot\u001b[39;00m data:\n\u001b[1;32m    527\u001b[0m     \u001b[39mbreak\u001b[39;00m\n",
      "File \u001b[0;32m~/miniconda3/envs/robust/lib/python3.8/http/client.py:459\u001b[0m, in \u001b[0;36mHTTPResponse.read\u001b[0;34m(self, amt)\u001b[0m\n\u001b[1;32m    456\u001b[0m \u001b[39mif\u001b[39;00m amt \u001b[39mis\u001b[39;00m \u001b[39mnot\u001b[39;00m \u001b[39mNone\u001b[39;00m:\n\u001b[1;32m    457\u001b[0m     \u001b[39m# Amount is given, implement using readinto\u001b[39;00m\n\u001b[1;32m    458\u001b[0m     b \u001b[39m=\u001b[39m \u001b[39mbytearray\u001b[39m(amt)\n\u001b[0;32m--> 459\u001b[0m     n \u001b[39m=\u001b[39m \u001b[39mself\u001b[39;49m\u001b[39m.\u001b[39;49mreadinto(b)\n\u001b[1;32m    460\u001b[0m     \u001b[39mreturn\u001b[39;00m \u001b[39mmemoryview\u001b[39m(b)[:n]\u001b[39m.\u001b[39mtobytes()\n\u001b[1;32m    461\u001b[0m \u001b[39melse\u001b[39;00m:\n\u001b[1;32m    462\u001b[0m     \u001b[39m# Amount is not given (unbounded read) so we must check self.length\u001b[39;00m\n\u001b[1;32m    463\u001b[0m     \u001b[39m# and self.chunked\u001b[39;00m\n",
      "File \u001b[0;32m~/miniconda3/envs/robust/lib/python3.8/http/client.py:503\u001b[0m, in \u001b[0;36mHTTPResponse.readinto\u001b[0;34m(self, b)\u001b[0m\n\u001b[1;32m    498\u001b[0m         b \u001b[39m=\u001b[39m \u001b[39mmemoryview\u001b[39m(b)[\u001b[39m0\u001b[39m:\u001b[39mself\u001b[39m\u001b[39m.\u001b[39mlength]\n\u001b[1;32m    500\u001b[0m \u001b[39m# we do not use _safe_read() here because this may be a .will_close\u001b[39;00m\n\u001b[1;32m    501\u001b[0m \u001b[39m# connection, and the user is reading more bytes than will be provided\u001b[39;00m\n\u001b[1;32m    502\u001b[0m \u001b[39m# (for example, reading in 1k chunks)\u001b[39;00m\n\u001b[0;32m--> 503\u001b[0m n \u001b[39m=\u001b[39m \u001b[39mself\u001b[39;49m\u001b[39m.\u001b[39;49mfp\u001b[39m.\u001b[39;49mreadinto(b)\n\u001b[1;32m    504\u001b[0m \u001b[39mif\u001b[39;00m \u001b[39mnot\u001b[39;00m n \u001b[39mand\u001b[39;00m b:\n\u001b[1;32m    505\u001b[0m     \u001b[39m# Ideally, we would raise IncompleteRead if the content-length\u001b[39;00m\n\u001b[1;32m    506\u001b[0m     \u001b[39m# wasn't satisfied, but it might break compatibility.\u001b[39;00m\n\u001b[1;32m    507\u001b[0m     \u001b[39mself\u001b[39m\u001b[39m.\u001b[39m_close_conn()\n",
      "File \u001b[0;32m~/miniconda3/envs/robust/lib/python3.8/socket.py:669\u001b[0m, in \u001b[0;36mSocketIO.readinto\u001b[0;34m(self, b)\u001b[0m\n\u001b[1;32m    667\u001b[0m \u001b[39mwhile\u001b[39;00m \u001b[39mTrue\u001b[39;00m:\n\u001b[1;32m    668\u001b[0m     \u001b[39mtry\u001b[39;00m:\n\u001b[0;32m--> 669\u001b[0m         \u001b[39mreturn\u001b[39;00m \u001b[39mself\u001b[39;49m\u001b[39m.\u001b[39;49m_sock\u001b[39m.\u001b[39;49mrecv_into(b)\n\u001b[1;32m    670\u001b[0m     \u001b[39mexcept\u001b[39;00m timeout:\n\u001b[1;32m    671\u001b[0m         \u001b[39mself\u001b[39m\u001b[39m.\u001b[39m_timeout_occurred \u001b[39m=\u001b[39m \u001b[39mTrue\u001b[39;00m\n",
      "File \u001b[0;32m~/miniconda3/envs/robust/lib/python3.8/ssl.py:1274\u001b[0m, in \u001b[0;36mSSLSocket.recv_into\u001b[0;34m(self, buffer, nbytes, flags)\u001b[0m\n\u001b[1;32m   1270\u001b[0m     \u001b[39mif\u001b[39;00m flags \u001b[39m!=\u001b[39m \u001b[39m0\u001b[39m:\n\u001b[1;32m   1271\u001b[0m         \u001b[39mraise\u001b[39;00m \u001b[39mValueError\u001b[39;00m(\n\u001b[1;32m   1272\u001b[0m           \u001b[39m\"\u001b[39m\u001b[39mnon-zero flags not allowed in calls to recv_into() on \u001b[39m\u001b[39m%s\u001b[39;00m\u001b[39m\"\u001b[39m \u001b[39m%\u001b[39m\n\u001b[1;32m   1273\u001b[0m           \u001b[39mself\u001b[39m\u001b[39m.\u001b[39m\u001b[39m__class__\u001b[39m)\n\u001b[0;32m-> 1274\u001b[0m     \u001b[39mreturn\u001b[39;00m \u001b[39mself\u001b[39;49m\u001b[39m.\u001b[39;49mread(nbytes, buffer)\n\u001b[1;32m   1275\u001b[0m \u001b[39melse\u001b[39;00m:\n\u001b[1;32m   1276\u001b[0m     \u001b[39mreturn\u001b[39;00m \u001b[39msuper\u001b[39m()\u001b[39m.\u001b[39mrecv_into(buffer, nbytes, flags)\n",
      "File \u001b[0;32m~/miniconda3/envs/robust/lib/python3.8/ssl.py:1132\u001b[0m, in \u001b[0;36mSSLSocket.read\u001b[0;34m(self, len, buffer)\u001b[0m\n\u001b[1;32m   1130\u001b[0m \u001b[39mtry\u001b[39;00m:\n\u001b[1;32m   1131\u001b[0m     \u001b[39mif\u001b[39;00m buffer \u001b[39mis\u001b[39;00m \u001b[39mnot\u001b[39;00m \u001b[39mNone\u001b[39;00m:\n\u001b[0;32m-> 1132\u001b[0m         \u001b[39mreturn\u001b[39;00m \u001b[39mself\u001b[39;49m\u001b[39m.\u001b[39;49m_sslobj\u001b[39m.\u001b[39;49mread(\u001b[39mlen\u001b[39;49m, buffer)\n\u001b[1;32m   1133\u001b[0m     \u001b[39melse\u001b[39;00m:\n\u001b[1;32m   1134\u001b[0m         \u001b[39mreturn\u001b[39;00m \u001b[39mself\u001b[39m\u001b[39m.\u001b[39m_sslobj\u001b[39m.\u001b[39mread(\u001b[39mlen\u001b[39m)\n",
      "\u001b[0;31mKeyboardInterrupt\u001b[0m: "
     ]
    },
    {
     "name": "stderr",
     "output_type": "stream",
     "text": []
    }
   ],
   "source": [
    "model_id = \"meta-llama/Llama-2-7b-chat-hf\"\n",
    "tokenizer = LlamaTokenizer.from_pretrained(model_id, truncation_side='left', padding_side='right')\n",
    "tokenizer.pad_token = tokenizer.eos_token\n",
    "# model = LlamaForCausalLM.from_pretrained(model_id, device_map={\"\":0},use_flash_attention_2=True)\n",
    "model = LlamaForCausalLM.from_pretrained(model_id, device_map={\"\":0})\n",
    "flash_attn_model = LlamaForCausalLM.from_pretrained(model_id, device_map={\"\":0},use_flash_attention_2=True)\n"
   ]
  },
  {
   "cell_type": "code",
   "execution_count": 82,
   "metadata": {},
   "outputs": [],
   "source": [
    "tokenizer = LlamaTokenizer.from_pretrained(model_id, truncation_side='left', padding_side='right')\n"
   ]
  },
  {
   "cell_type": "code",
   "execution_count": 76,
   "metadata": {},
   "outputs": [
    {
     "data": {
      "text/plain": [
       "LlamaForCausalLM(\n",
       "  (model): LlamaModel(\n",
       "    (embed_tokens): Embedding(32000, 4096)\n",
       "    (layers): ModuleList(\n",
       "      (0-31): 32 x LlamaDecoderLayer(\n",
       "        (self_attn): LlamaFlashAttention2(\n",
       "          (q_proj): Linear(in_features=4096, out_features=4096, bias=False)\n",
       "          (k_proj): Linear(in_features=4096, out_features=4096, bias=False)\n",
       "          (v_proj): Linear(in_features=4096, out_features=4096, bias=False)\n",
       "          (o_proj): Linear(in_features=4096, out_features=4096, bias=False)\n",
       "          (rotary_emb): LlamaRotaryEmbedding()\n",
       "        )\n",
       "        (mlp): LlamaMLP(\n",
       "          (gate_proj): Linear(in_features=4096, out_features=11008, bias=False)\n",
       "          (up_proj): Linear(in_features=4096, out_features=11008, bias=False)\n",
       "          (down_proj): Linear(in_features=11008, out_features=4096, bias=False)\n",
       "          (act_fn): SiLUActivation()\n",
       "        )\n",
       "        (input_layernorm): LlamaRMSNorm()\n",
       "        (post_attention_layernorm): LlamaRMSNorm()\n",
       "      )\n",
       "    )\n",
       "    (norm): LlamaRMSNorm()\n",
       "  )\n",
       "  (lm_head): Linear(in_features=4096, out_features=32000, bias=False)\n",
       ")"
      ]
     },
     "execution_count": 76,
     "metadata": {},
     "output_type": "execute_result"
    }
   ],
   "source": [
    "model.eval()\n",
    "flash_attn_model.eval()"
   ]
  },
  {
   "cell_type": "code",
   "execution_count": 94,
   "metadata": {},
   "outputs": [
    {
     "name": "stdout",
     "output_type": "stream",
     "text": [
      "{'input_ids': tensor([[    1,   306, 29915,   345,  2355,   263, 12355,   873, 14928,   310,\n",
      "          1302,   535,  8842,   437,   437,   437,   437,  3634]],\n",
      "       device='cuda:0'), 'attention_mask': tensor([[1, 1, 1, 1, 1, 1, 1, 1, 1, 1, 1, 1, 1, 1, 1, 1, 1, 1]],\n",
      "       device='cuda:0')}\n",
      "{'input_ids': tensor([[    1,   306, 29915,   345,  2355,   263, 12355,   873, 14928,   310,\n",
      "          1302,   535,  8842,   437,   437,   437,   437,  3634,     2,     2,\n",
      "             2,     2,     2,     2,     2,     2,     2,     2,     2,     2,\n",
      "             2,     2,     2,     2,     2,     2,     2,     2,     2,     2,\n",
      "             2,     2,     2,     2,     2,     2,     2,     2,     2,     2]],\n",
      "       device='cuda:0'), 'attention_mask': tensor([[1, 1, 1, 1, 1, 1, 1, 1, 1, 1, 1, 1, 1, 1, 1, 1, 1, 1, 0, 0, 0, 0, 0, 0,\n",
      "         0, 0, 0, 0, 0, 0, 0, 0, 0, 0, 0, 0, 0, 0, 0, 0, 0, 0, 0, 0, 0, 0, 0, 0,\n",
      "         0, 0]], device='cuda:0')}\n",
      "{'input_ids': tensor([[    1,   306, 29915,   345,  2355,   263, 12355,   873, 14928,   310,\n",
      "          1302,   535,  8842,   437,   437,   437,   437,  3634,     2,     2,\n",
      "             2,     2,     2,     2,     2,     2,     2,     2,     2,     2,\n",
      "             2,     2,     2,     2,     2,     2,     2,     2,     2,     2,\n",
      "             2,     2,     2,     2,     2,     2,     2,     2,     2,     2,\n",
      "             2],\n",
      "        [    1,   437,   437,   437,   437,   437,   437,   437,   437,   437,\n",
      "           437,   437,   437,   437,   437,   437,   437,   437,   437,   437,\n",
      "           437,   437,   437,   437,   437,   437,   437,   437,   437,   437,\n",
      "           437,   437,   437,   437,   437,   437,   437,   437,   437,   437,\n",
      "           437,   437,   437,   437,   437,   437,   437,   437,   437,   437,\n",
      "           437]], device='cuda:0'), 'attention_mask': tensor([[1, 1, 1, 1, 1, 1, 1, 1, 1, 1, 1, 1, 1, 1, 1, 1, 1, 1, 0, 0, 0, 0, 0, 0,\n",
      "         0, 0, 0, 0, 0, 0, 0, 0, 0, 0, 0, 0, 0, 0, 0, 0, 0, 0, 0, 0, 0, 0, 0, 0,\n",
      "         0, 0, 0],\n",
      "        [1, 1, 1, 1, 1, 1, 1, 1, 1, 1, 1, 1, 1, 1, 1, 1, 1, 1, 1, 1, 1, 1, 1, 1,\n",
      "         1, 1, 1, 1, 1, 1, 1, 1, 1, 1, 1, 1, 1, 1, 1, 1, 1, 1, 1, 1, 1, 1, 1, 1,\n",
      "         1, 1, 1]], device='cuda:0')}\n"
     ]
    },
    {
     "name": "stderr",
     "output_type": "stream",
     "text": [
      "/transformers/src/transformers/tokenization_utils_base.py:2630: UserWarning: `max_length` is ignored when `padding`=`True` and there is no truncation strategy. To pad to max length, use `padding='max_length'`.\n",
      "  warnings.warn(\n"
     ]
    }
   ],
   "source": [
    "tokenizer.pad_token = tokenizer.eos_token\n",
    "\n",
    "input_prompt = \"I've got a lovely bunch of coconuts do do do dooo\"\n",
    "random = \" \".join([\"do\" for _ in range(50)])\n",
    "batched_input_prompt = [\"I've got a lovely bunch of coconuts do do do dooo\", \" \".join([\"do\" for _ in range(50)])]\n",
    "input_prompt_tokenized = tokenizer(input_prompt, return_tensors=\"pt\").to('cuda')\n",
    "input_prompt_padded_tokenized = tokenizer(input_prompt, return_tensors=\"pt\", padding=\"max_length\", max_length=50).to('cuda')\n",
    "batched_input_prompt_tokenized = tokenizer(batched_input_prompt, return_tensors=\"pt\", padding=True, max_length=50).to('cuda')\n",
    "random_tokenized = tokenizer(random, return_tensors=\"pt\").to('cuda')\n",
    "\n",
    "print(input_prompt_tokenized)\n",
    "print(input_prompt_padded_tokenized)\n",
    "print(batched_input_prompt_tokenized)"
   ]
  },
  {
   "cell_type": "code",
   "execution_count": 84,
   "metadata": {},
   "outputs": [
    {
     "name": "stdout",
     "output_type": "stream",
     "text": [
      "Normal Model + Non-Padded Input\n",
      "Loss (no padding): 2.8300979137420654\n",
      "Logits (no padding): tensor([[[ 0.1357, -0.1206,  0.3125,  ...,  1.3594,  1.8984,  0.6641],\n",
      "         [-8.3750, -9.8125, -0.3691,  ..., -3.4844, -8.0000, -2.8594],\n",
      "         [-3.7812, -2.7656,  4.0000,  ..., -1.4297, -2.8125, -0.3926],\n",
      "         ...,\n",
      "         [-3.4688, -3.0625,  8.3125,  ...,  0.2559, -2.6875, -2.8125],\n",
      "         [-3.0000, -3.0938,  8.7500,  ...,  0.0806, -2.5156, -2.7656],\n",
      "         [-2.6562, -1.6953,  7.7812,  ..., -0.6484, -3.1562, -2.5000]]],\n",
      "       device='cuda:0', dtype=torch.float32, grad_fn=<ToCopyBackward0>)\n"
     ]
    }
   ],
   "source": [
    "input_ids_masked = torch.zeros(input_prompt_padded_tokenized.input_ids.shape, dtype=torch.int64).to('cuda')\n",
    "torch.where(input_prompt_padded_tokenized.input_ids == tokenizer.pad_token_id,\n",
    "            torch.tensor(-100, dtype=torch.int64),\n",
    "            input_prompt_padded_tokenized.input_ids,\n",
    "            out=input_ids_masked)\n",
    "\n",
    "loss1 = model(\n",
    "    input_prompt_tokenized.input_ids,\n",
    "    attention_mask=input_prompt_tokenized.attention_mask,\n",
    "    labels=input_prompt_tokenized.input_ids\n",
    ").loss\n",
    "\n",
    "logits1 = model(\n",
    "    input_prompt_tokenized.input_ids,\n",
    "    attention_mask=input_prompt_tokenized.attention_mask,\n",
    "    labels=input_prompt_tokenized.input_ids\n",
    ").logits\n",
    "\n",
    "print(f\"Normal Model + Non-Padded Input\")\n",
    "print(f\"Loss (no padding): {loss1}\")\n",
    "print(f\"Logits (no padding): {logits1}\")"
   ]
  },
  {
   "cell_type": "code",
   "execution_count": 96,
   "metadata": {},
   "outputs": [
    {
     "name": "stdout",
     "output_type": "stream",
     "text": [
      "Flash Attn Model + Non-Padded Input\n",
      "Loss (no padding) with flash attn: 2.8371522426605225\n",
      "Logits (no padding) with flash attn: tensor([[[ 0.1357, -0.1206,  0.3125,  ...,  1.3594,  1.8984,  0.6641],\n",
      "         [-8.4375, -9.8750, -0.3555,  ..., -3.5000, -8.0625, -2.9062],\n",
      "         [-3.7812, -2.7812,  4.0625,  ..., -1.3828, -2.7969, -0.3438],\n",
      "         ...,\n",
      "         [-3.4844, -3.0781,  8.3750,  ...,  0.2871, -2.6719, -2.8125],\n",
      "         [-3.0625, -3.1250,  8.6875,  ...,  0.0928, -2.5781, -2.7812],\n",
      "         [-2.6562, -1.6719,  7.7812,  ..., -0.6914, -3.1406, -2.5156]]],\n",
      "       device='cuda:0', dtype=torch.float32, grad_fn=<ToCopyBackward0>)\n",
      "Loss (no padding) with flash attn: 8.834760665893555\n"
     ]
    }
   ],
   "source": [
    "loss1_falsh_attn = flash_attn_model(\n",
    "    input_prompt_tokenized.input_ids,\n",
    "    attention_mask=input_prompt_tokenized.attention_mask,\n",
    "    labels=input_prompt_tokenized.input_ids\n",
    ").loss\n",
    "\n",
    "logits1_falsh_attn = flash_attn_model(\n",
    "    input_prompt_tokenized.input_ids,\n",
    "    attention_mask=input_prompt_tokenized.attention_mask,\n",
    "    labels=input_prompt_tokenized.input_ids\n",
    ").logits\n",
    "\n",
    "loss_random = model(\n",
    "    random_tokenized.input_ids,\n",
    "    attention_mask=random_tokenized.attention_mask,\n",
    "    labels=random_tokenized.input_ids\n",
    ").loss\n",
    "\n",
    "print(f\"Flash Attn Model + Non-Padded Input\")\n",
    "print(f\"Loss (no padding) with flash attn: {loss1_falsh_attn}\")\n",
    "print(f\"Logits (no padding) with flash attn: {logits1_falsh_attn}\")\n",
    "print(f\"Loss (no padding) with flash attn: {loss_random + loss1_falsh_attn}\")"
   ]
  },
  {
   "cell_type": "code",
   "execution_count": 105,
   "metadata": {},
   "outputs": [
    {
     "name": "stdout",
     "output_type": "stream",
     "text": [
      "torch.Size([1, 50, 32000])\n",
      "Unterscheidung'm been a bitely little of coconuts\n",
      "o do do doo<s><s><s><s><s><s><s><s><s><s><s><s><s><s><s><s><s><s><s><s><s><s><s><s><s><s><s><s><s>'''\n",
      "Normal Model + Padded Input\n",
      "Loss (padding): 8.399846076965332\n",
      "Logits (padding): tensor([[[ 0.1357, -0.1206,  0.3125,  ...,  1.3594,  1.8984,  0.6641],\n",
      "         [-8.3750, -9.8125, -0.3691,  ..., -3.4844, -8.0000, -2.8594],\n",
      "         [-3.7812, -2.7656,  4.0000,  ..., -1.4297, -2.8125, -0.3926],\n",
      "         ...,\n",
      "         [-4.9062,  8.0000,  5.2500,  ..., -2.2812, -2.2812, -2.7344],\n",
      "         [-5.4062,  3.4219,  5.3125,  ..., -2.6094, -1.1250, -3.4062],\n",
      "         [-5.3125,  2.5312,  5.9375,  ..., -2.2656, -0.9961, -3.6719]]],\n",
      "       device='cuda:0', dtype=torch.float32, grad_fn=<ToCopyBackward0>)\n",
      "Decoded Logits (padding): []\n"
     ]
    }
   ],
   "source": [
    "loss2 = model(\n",
    "    input_prompt_padded_tokenized.input_ids,\n",
    "    attention_mask=input_prompt_padded_tokenized.attention_mask,\n",
    "    labels=input_prompt_padded_tokenized.input_ids\n",
    ").loss\n",
    "\n",
    "logits2 = model(\n",
    "    input_prompt_padded_tokenized.input_ids,\n",
    "    attention_mask=input_prompt_padded_tokenized.attention_mask,\n",
    "    labels=input_prompt_padded_tokenized.input_ids\n",
    ").logits\n",
    "\n",
    "print(logits2.shape)\n",
    "# decode the logits\n",
    "print(tokenizer.decode(logits2.argmax(dim=-1)[0]))\n",
    "\n",
    "print(f\"Normal Model + Padded Input\")\n",
    "print(f\"Loss (padding): {loss2}\")\n",
    "print(f\"Logits (padding): {logits2}\")\n",
    "print(f\"Decoded Logits (padding): {decoded_logits}\")"
   ]
  },
  {
   "cell_type": "code",
   "execution_count": 106,
   "metadata": {},
   "outputs": [
    {
     "name": "stdout",
     "output_type": "stream",
     "text": [
      "Unterscheidung'm been a bitely little of coconuts\n",
      "o do do doo<s><s><s><s><s><s><s><s><s><s><s><s><s><s><s><s><s><s><s><s><s><s><s><s><s><s><s><s><s><s><s><s>\n",
      "Flash Attn Model + Padded Input\n",
      "Loss (padding) with flash attn: 16.86910057067871\n",
      "Logits (padding) with flash attn: tensor([[[ 0.1357, -0.1206,  0.3125,  ...,  1.3594,  1.8984,  0.6641],\n",
      "         [-8.4375, -9.8750, -0.3555,  ..., -3.5000, -8.0625, -2.9062],\n",
      "         [-3.7812, -2.7812,  4.0625,  ..., -1.3828, -2.7969, -0.3438],\n",
      "         ...,\n",
      "         [ 8.5000, 27.0000,  2.2188,  ...,  4.2188,  1.9766,  3.6250],\n",
      "         [ 8.5000, 27.0000,  2.2188,  ...,  4.2188,  1.9766,  3.6250],\n",
      "         [ 8.5000, 27.0000,  2.2188,  ...,  4.2188,  1.9766,  3.6250]]],\n",
      "       device='cuda:0', dtype=torch.float32, grad_fn=<ToCopyBackward0>)\n"
     ]
    }
   ],
   "source": [
    "loss2_falsh_attn = flash_attn_model(\n",
    "    input_prompt_padded_tokenized.input_ids,\n",
    "    attention_mask=input_prompt_padded_tokenized.attention_mask,\n",
    "    labels=input_prompt_padded_tokenized.input_ids\n",
    ").loss\n",
    "\n",
    "logits2_falsh_attn = flash_attn_model(\n",
    "    input_prompt_padded_tokenized.input_ids,\n",
    "    attention_mask=input_prompt_padded_tokenized.attention_mask,\n",
    "    labels=input_prompt_padded_tokenized.input_ids\n",
    ").logits\n",
    "\n",
    "print(tokenizer.decode(logits2_falsh_attn.argmax(dim=-1)[0]))\n",
    "\n",
    "print(f\"Flash Attn Model + Padded Input\")\n",
    "print(f\"Loss (padding) with flash attn: {loss2_falsh_attn}\")\n",
    "print(f\"Logits (padding) with flash attn: {logits2_falsh_attn}\")"
   ]
  },
  {
   "cell_type": "code",
   "execution_count": 113,
   "metadata": {},
   "outputs": [
    {
     "name": "stdout",
     "output_type": "stream",
     "text": [
      "Decoded Logits\n",
      "------------------\n",
      "Unterscheidung'm been a bitely little of coconuts\n",
      "o do do doo<s><s><s><s><s><s><s><s><s><s><s><s><s><s><s><s><s><s><s><s><s><s><s><s><s><s><s><s><s>''''\n",
      "------------------\n",
      "\n",
      "Normal Model + Padded Input\n",
      "Loss (with padding): 7.247009754180908\n",
      "Logits (with padding): tensor([[ 0.0608, -0.1953,  0.3203,  ...,  1.3281,  1.8359,  0.6094],\n",
      "        [-8.3750, -9.8125, -0.3574,  ..., -3.5000, -8.0625, -2.8750],\n",
      "        [-3.8281, -2.8281,  4.0000,  ..., -1.4375, -2.8438, -0.4102],\n",
      "        ...,\n",
      "        [-5.3438,  3.5625,  5.4062,  ..., -2.5781, -1.0469, -3.3594],\n",
      "        [-5.3750,  2.4375,  5.8438,  ..., -2.2969, -1.0547, -3.7031],\n",
      "        [-5.1250,  3.9844,  5.8750,  ..., -1.9766, -0.9297, -3.1250]],\n",
      "       device='cuda:0', dtype=torch.float32, grad_fn=<SelectBackward0>)\n"
     ]
    }
   ],
   "source": [
    "loss2 = model(\n",
    "    batched_input_prompt_tokenized.input_ids,\n",
    "    attention_mask=batched_input_prompt_tokenized.attention_mask,\n",
    "    labels=batched_input_prompt_tokenized.input_ids\n",
    ").loss\n",
    "\n",
    "logits2 = model(\n",
    "    batched_input_prompt_tokenized.input_ids,\n",
    "    attention_mask=batched_input_prompt_tokenized.attention_mask,\n",
    "    labels=batched_input_prompt_tokenized.input_ids\n",
    ").logits\n",
    "\n",
    "print('Decoded Logits')\n",
    "print('------------------')\n",
    "print(tokenizer.decode(logits2.argmax(dim=-1)[0]))\n",
    "print('------------------\\n')\n",
    "\n",
    "print(f\"Normal Model + Padded Input\")\n",
    "print(f\"Loss (with padding): {loss2}\")\n",
    "print(f\"Logits (with padding): {logits2[0]}\")"
   ]
  },
  {
   "cell_type": "code",
   "execution_count": 114,
   "metadata": {},
   "outputs": [
    {
     "name": "stdout",
     "output_type": "stream",
     "text": [
      "Decoded Logits\n",
      "------------------\n",
      "Unterscheidung'm been a bitely little of coconuts\n",
      "o do do doo<s><s><s><s><s><s><s><s><s><s><s><s><s><s><s><s><s><s><s><s><s><s><s><s><s><s><s><s><s><s><s><s><s>\n",
      "------------------\n",
      "\n",
      "Flash Attn Model + Padded Input\n",
      "Loss (padding input & masking labels): 11.508078575134277\n",
      "Logits (padding input & masking labels): tensor([[ 0.0608, -0.1953,  0.3203,  ...,  1.3281,  1.8359,  0.6094],\n",
      "        [-8.4375, -9.8750, -0.3477,  ..., -3.5312, -8.0625, -2.8906],\n",
      "        [-3.7656, -2.8125,  4.0625,  ..., -1.3672, -2.7812, -0.3457],\n",
      "        ...,\n",
      "        [ 8.5000, 27.0000,  2.2344,  ...,  4.2500,  2.0000,  3.6562],\n",
      "        [ 8.5000, 27.0000,  2.2344,  ...,  4.2500,  2.0000,  3.6562],\n",
      "        [ 8.5000, 27.0000,  2.2344,  ...,  4.2500,  2.0000,  3.6562]],\n",
      "       device='cuda:0', dtype=torch.float32, grad_fn=<SelectBackward0>)\n"
     ]
    }
   ],
   "source": [
    "flash_attn_loss = flash_attn_model(\n",
    "    batched_input_prompt_tokenized.input_ids,\n",
    "    attention_mask=batched_input_prompt_tokenized.attention_mask,\n",
    "    labels=batched_input_prompt_tokenized.input_ids\n",
    ").loss\n",
    "\n",
    "flash_attn_logits = flash_attn_model(\n",
    "    batched_input_prompt_tokenized.input_ids,\n",
    "    attention_mask=batched_input_prompt_tokenized.attention_mask,\n",
    "    labels=batched_input_prompt_tokenized.input_ids\n",
    ").logits\n",
    "\n",
    "print('Decoded Logits')\n",
    "print('------------------')\n",
    "print(tokenizer.decode(flash_attn_logits.argmax(dim=-1)[0]))\n",
    "print('------------------\\n')\n",
    "\n",
    "print(f\"Flash Attn Model + Padded Input\")\n",
    "print(f\"Loss (padding input & masking labels): {flash_attn_loss}\")\n",
    "print(f\"Logits (padding input & masking labels): {flash_attn_logits[0]}\")"
   ]
  },
  {
   "cell_type": "markdown",
   "metadata": {
    "jp-MarkdownHeadingCollapsed": true
   },
   "source": [
    "### Model outcome"
   ]
  },
  {
   "cell_type": "code",
   "execution_count": 2,
   "metadata": {},
   "outputs": [
    {
     "name": "stdout",
     "output_type": "stream",
     "text": [
      "tensor([[2, 0, 3, 0],\n",
      "        [1, 0, 3, 3],\n",
      "        [0, 3, 2, 0]]) tensor([[3, 4, 2, 0],\n",
      "        [3, 4, 2, 4]])\n"
     ]
    }
   ],
   "source": [
    "a = torch.randint(0, 5, (3, 4))\n",
    "b = torch.randint(0, 5, (2, 4))\n",
    "\n",
    "print(a, b)"
   ]
  },
  {
   "cell_type": "code",
   "execution_count": 3,
   "metadata": {},
   "outputs": [],
   "source": [
    "# convert a and b to dtype=torch.float32\n",
    "a = a.float()\n",
    "b = b.float()\n"
   ]
  },
  {
   "cell_type": "code",
   "execution_count": 4,
   "metadata": {},
   "outputs": [
    {
     "data": {
      "text/plain": [
       "torch.Size([1, 4])"
      ]
     },
     "execution_count": 4,
     "metadata": {},
     "output_type": "execute_result"
    }
   ],
   "source": [
    "b1 = torch.tensor([[0, 4, 3, 1]])\n",
    "b1 = b1.float()\n",
    "b1.shape"
   ]
  },
  {
   "cell_type": "code",
   "execution_count": 5,
   "metadata": {},
   "outputs": [
    {
     "data": {
      "text/plain": [
       "tensor([[ 1.0000,  1.7500, -1.2500]])"
      ]
     },
     "execution_count": 5,
     "metadata": {},
     "output_type": "execute_result"
    }
   ],
   "source": [
    "torch.mean((a[:, None, :] - b1) * (a[:, None, :]), dim=2).transpose(0, 1)"
   ]
  },
  {
   "cell_type": "code",
   "execution_count": 6,
   "metadata": {},
   "outputs": [
    {
     "name": "stdout",
     "output_type": "stream",
     "text": [
      "tensor([[[2., 0., 3., 0.]],\n",
      "\n",
      "        [[1., 0., 3., 3.]],\n",
      "\n",
      "        [[0., 3., 2., 0.]]])\n"
     ]
    },
    {
     "data": {
      "text/plain": [
       "tensor([[ 0.2500,  2.5000, -0.7500],\n",
       "        [ 0.2500, -0.5000, -0.7500]])"
      ]
     },
     "execution_count": 6,
     "metadata": {},
     "output_type": "execute_result"
    }
   ],
   "source": [
    "print(a[:, None, :])\n",
    "torch.mean((a[:, None, :] - b) * (a[:, None, :]), dim=2).transpose(0, 1)"
   ]
  },
  {
   "cell_type": "code",
   "execution_count": 7,
   "metadata": {},
   "outputs": [
    {
     "data": {
      "text/plain": [
       "tensor([[0.0217, 0.4867, 0.4916]])"
      ]
     },
     "execution_count": 7,
     "metadata": {},
     "output_type": "execute_result"
    }
   ],
   "source": [
    "tensor_example = [[4.46, 7.57, 7.58]]\n",
    "# tensor_example = tensor_example\n",
    "tensor_example = torch.tensor(tensor_example)\n",
    "\n",
    "# plot the softmax output\n",
    "import matplotlib.pyplot as plt\n",
    "import numpy as np\n",
    "\n",
    "\n",
    "# def plot_softmax(tensor_example, knn_T=10):\n",
    "#     tensor_example = tensor_example / knn_T\n",
    "#     softmax = torch.nn.Softmax(dim=1)\n",
    "#     softmax_output = softmax(tensor_example)\n",
    "#     print(softmax_output)\n",
    "#     plt.plot(softmax_output.detach().numpy().flatten(), 'o')\n",
    "#     # shot the x axis as discrete values\n",
    "#     plt.xticks(np.arange(16))\n",
    "#     # plot the y from 0 to 1\n",
    "#     plt.ylim(0, 1)\n",
    "#     plt.show()\n",
    "\n",
    "# plot_softmax(tensor_example, 100)\n",
    "torch.softmax(tensor_example, dim=-1)"
   ]
  },
  {
   "cell_type": "markdown",
   "metadata": {},
   "source": []
  },
  {
   "cell_type": "code",
   "execution_count": 5,
   "metadata": {},
   "outputs": [
    {
     "data": {
      "text/plain": [
       "{'input_ids': [3967], 'attention_mask': [1]}"
      ]
     },
     "execution_count": 5,
     "metadata": {},
     "output_type": "execute_result"
    }
   ],
   "source": [
    "tokenizer = AutoTokenizer.from_pretrained(\"gpt2-xl\")\n",
    "tokenizer(\" positive\")"
   ]
  },
  {
   "cell_type": "markdown",
   "metadata": {},
   "source": [
    "### Analyse swap labels"
   ]
  },
  {
   "cell_type": "code",
   "execution_count": 2,
   "metadata": {},
   "outputs": [
    {
     "name": "stdout",
     "output_type": "stream",
     "text": [
      "\n",
      "===================================BUG REPORT===================================\n",
      "Welcome to bitsandbytes. For bug reports, please run\n",
      "\n",
      "python -m bitsandbytes\n",
      "\n",
      " and submit this information together with your error trace to: https://github.com/TimDettmers/bitsandbytes/issues\n",
      "================================================================================\n",
      "CUDA_SETUP: WARNING! libcudart.so not found in any environmental path. Searching in backup paths...\n",
      "CUDA SETUP: CUDA runtime path found: /usr/local/cuda/lib64/libcudart.so\n",
      "CUDA SETUP: Highest compute capability among GPUs detected: 8.0\n",
      "CUDA SETUP: Detected CUDA version 118\n",
      "CUDA SETUP: Loading binary /usr/local/lib/python3.8/dist-packages/bitsandbytes/libbitsandbytes_cuda118.so...\n"
     ]
    },
    {
     "name": "stderr",
     "output_type": "stream",
     "text": [
      "/usr/local/lib/python3.8/dist-packages/bitsandbytes/cuda_setup/main.py:147: UserWarning: WARNING: The following directories listed in your path were found to be non-existent: {PosixPath('vs/workbench/api/node/extensionHostProcess')}\n",
      "  warn(msg)\n",
      "/usr/local/lib/python3.8/dist-packages/bitsandbytes/cuda_setup/main.py:147: UserWarning: WARNING: The following directories listed in your path were found to be non-existent: {PosixPath('module'), PosixPath('//matplotlib_inline.backend_inline')}\n",
      "  warn(msg)\n",
      "/usr/local/lib/python3.8/dist-packages/bitsandbytes/cuda_setup/main.py:147: UserWarning: Found duplicate ['libcudart.so', 'libcudart.so.11.0', 'libcudart.so.12.0'] files: {PosixPath('/usr/local/cuda/lib64/libcudart.so'), PosixPath('/usr/local/cuda/lib64/libcudart.so.11.0')}.. We'll flip a coin and try one of these, in order to fail forward.\n",
      "Either way, this might cause trouble in the future:\n",
      "If you get `CUDA error: invalid device function` errors, the above might be the cause and the solution is to make sure only one ['libcudart.so', 'libcudart.so.11.0', 'libcudart.so.12.0'] in the paths that we search based on your env.\n",
      "  warn(msg)\n"
     ]
    },
    {
     "data": {
      "application/vnd.jupyter.widget-view+json": {
       "model_id": "0288f2b80a8846fcbc8de570b2921fc7",
       "version_major": 2,
       "version_minor": 0
      },
      "text/plain": [
       "Loading checkpoint shards:   0%|          | 0/2 [00:00<?, ?it/s]"
      ]
     },
     "metadata": {},
     "output_type": "display_data"
    }
   ],
   "source": [
    "'''\n",
    "Choose sentiment from terrible or great.\n",
    "\n",
    "Review: i would recommend big bad love only to winger fans who have missed her since 1995 's forget paris.\n",
    "Sentiment: terrible\n",
    "Review:  suspenseful enough for older kids but not . \n",
    "Sentiment: great\n",
    "\n",
    "Review: the subtle strength of elling is that it never squandering touch with the reality of the grim situation . \n",
    "Sentiment:\n",
    "'''\n",
    "tokenizer = AutoTokenizer.from_pretrained(\"meta-llama/Llama-2-7b-hf\")\n",
    "model = AutoModelForCausalLM.from_pretrained(\"meta-llama/Llama-2-7b-hf\", load_in_8bit=True, use_flash_attention_2=True)\n",
    "# model = AutoModelForCausalLM.from_pretrained(\"meta-llama/Llama-2-7b-hf\", use_flash_attention_2=True, torch_dtype=torch.bfloat16)\n",
    "# gpt_tokenizer = AutoTokenizer.from_pretrained(\"gpt2-xl\")\n",
    "# gpt_model = AutoModelForCausalLM.from_pretrained(\"gpt2-xl\").to('cuda')\n",
    "\n",
    "# mistral_tokenizer = AutoTokenizer.from_pretrained(\"mistralai/Mistral-7B-v0.1\")\n",
    "# mistral_model = AutoModelForCausalLM.from_pretrained(\"mistralai/Mistral-7B-v0.1\").to('cuda')"
   ]
  },
  {
   "cell_type": "code",
   "execution_count": 3,
   "metadata": {},
   "outputs": [],
   "source": [
    "# model = model.to('cuda')\n",
    "tokenizer.padding_side = \"left\"\n",
    "tokenizer.truncation_side = \"left\"\n",
    "tokenizer.pad_token = tokenizer.eos_token"
   ]
  },
  {
   "cell_type": "code",
   "execution_count": 5,
   "metadata": {},
   "outputs": [],
   "source": [
    "# gpt_tokenizer = AutoTokenizer.from_pretrained(\"gpt2-xl\")\n",
    "# gpt_model = AutoModelForCausalLM.from_pretrained(\"gpt2-xl\").to('cuda')"
   ]
  },
  {
   "cell_type": "code",
   "execution_count": 4,
   "metadata": {},
   "outputs": [],
   "source": [
    "import pandas as pd\n",
    "import numpy as np\n",
    "from tqdm.auto import tqdm  # for notebooks\n",
    "\n",
    "tqdm.pandas()\n",
    "\n",
    "# no limit\n",
    "# df = pd.read_csv('../checkpoints/rte/meta-llama/Llama-2-7b-hf/swap_labels/icl_attack-seed-1-shot-8_quantized_bound/swap_labels_log.csv')\n",
    "# max 1\n",
    "df = pd.read_csv(\"../checkpoints/rte/meta-llama/Llama-2-7b-hf/swap_labels/icl_attack-seed-1-shot-8_uniform_1_quantized/swap_labels_log.csv\")\n",
    "# max 2\n",
    "# df = pd.read_csv(\"../checkpoints/rte/meta-llama/Llama-2-7b-hf/swap_labels/icl_attack-seed-1-shot-8_uniform_2_quantized/swap_labels_log.csv\")\n",
    "# max 4\n",
    "# df = pd.read_csv('../checkpoints/rte/meta-llama/Llama-2-7b-hf/swap_labels/icl_attack-seed-1-shot-8_uniform_4_quantized/swap_labels_log.csv')\n",
    "\n",
    "def get_demo_and_question(text):\n",
    "    demons = text.split(\"<SPLIT>\")\n",
    "    demons = [demon.split(\":\")[1].strip('\\n ').strip('[]') for demon in demons]\n",
    "\n",
    "    question = (demons[0], demons[1], \"\")\n",
    "    icl_examples = []\n",
    "    demons = demons[2:]\n",
    "    for i in range(len(demons) // 3):\n",
    "        icl_examples.append((demons[i * 3], demons[i * 3 + 1], demons[i * 3 + 2]))\n",
    "    return question, icl_examples\n",
    "    \n",
    "\n",
    "def get_prompt(text):\n",
    "    question, icl_examples = get_demo_and_question(text)\n",
    "    template = \"{}\\n The question is: {}. True or False?\\nThe Answer is: {}\"\n",
    "    verbalizer = {0: \"true\", 1: \"false\"}\n",
    "\n",
    "    demos = []\n",
    "    for demo in icl_examples:\n",
    "        demos.append(template.format(demo[0], demo[1], demo[2]))\n",
    "    q = template.format(question[0], question[1], \"\").strip()\n",
    "\n",
    "    prompt = \"\\n\\n\".join(demos) + \"\\n\\n\" + q\n",
    "\n",
    "    return prompt\n",
    "\n",
    "def compare_non_modifable(row):\n",
    "    original = row['original_text']\n",
    "    modified = row['perturbed_text']\n",
    "    ori_q, ori_icl_examples = get_demo_and_question(original)\n",
    "    mod_q, mod_icl_examples = get_demo_and_question(modified)\n",
    "\n",
    "    return (all([(e[0] == ae[0]) and (e[1] == ae[1]) for e, ae in zip(ori_icl_examples, mod_icl_examples)])) and (ori_q == mod_q)\n",
    "\n",
    "def compute_distributions(question, icl_examples):\n",
    "    template = \"{}\\n The question is: {}. True or False?\\nThe Answer is: {}\"\n",
    "    verbalizer = {0: \"true\", 1: \"false\"}\n",
    "    label_id = [tokenizer.encode(verbalizer[0])[1], tokenizer.encode(verbalizer[1])[1]]\n",
    "\n",
    "    demos = []\n",
    "    for demo in icl_examples:\n",
    "        demos.append(template.format(demo[0], demo[1], demo[2]))\n",
    "    q = template.format(question[0], question[1], \"\").strip()\n",
    "\n",
    "    prompt = \"\\n\\n\".join(demos) + \"\\n\\n\" + q\n",
    "\n",
    "    # print(prompt)\n",
    "    tokenized = tokenizer(prompt, return_tensors=\"pt\", padding=True).to('cuda')\n",
    "    logits = model(**tokenized).logits\n",
    "    output = logits[:, -1, :].detach().cpu()\n",
    "\n",
    "    output_label = output[:, label_id].softmax(dim=-1)\n",
    "    return output_label.argmax(dim=-1).item()"
   ]
  },
  {
   "cell_type": "code",
   "execution_count": 5,
   "metadata": {},
   "outputs": [
    {
     "data": {
      "application/vnd.jupyter.widget-view+json": {
       "model_id": "4244b5b977064d538fc923662b554c2e",
       "version_major": 2,
       "version_minor": 0
      },
      "text/plain": [
       "  0%|          | 0/277 [00:00<?, ?it/s]"
      ]
     },
     "metadata": {},
     "output_type": "display_data"
    },
    {
     "data": {
      "application/vnd.jupyter.widget-view+json": {
       "model_id": "02e8083a2dfe4eb49ae5a45709ead825",
       "version_major": 2,
       "version_minor": 0
      },
      "text/plain": [
       "  0%|          | 0/277 [00:00<?, ?it/s]"
      ]
     },
     "metadata": {},
     "output_type": "display_data"
    },
    {
     "name": "stderr",
     "output_type": "stream",
     "text": [
      "2023-10-30 23:55:00.046550: I tensorflow/core/platform/cpu_feature_guard.cc:182] This TensorFlow binary is optimized to use available CPU instructions in performance-critical operations.\n",
      "To enable the following instructions: AVX2 FMA, in other operations, rebuild TensorFlow with the appropriate compiler flags.\n",
      "2023-10-30 23:55:00.779158: W tensorflow/compiler/tf2tensorrt/utils/py_utils.cc:38] TF-TRT Warning: Could not find TensorRT\n"
     ]
    },
    {
     "data": {
      "application/vnd.jupyter.widget-view+json": {
       "model_id": "731fc37588514d1198ab91a8d328501b",
       "version_major": 2,
       "version_minor": 0
      },
      "text/plain": [
       "  0%|          | 0/277 [00:00<?, ?it/s]"
      ]
     },
     "metadata": {},
     "output_type": "display_data"
    },
    {
     "data": {
      "text/plain": [
       "attacked_answer\n",
       " 1    123\n",
       "-1     78\n",
       " 0     76\n",
       "Name: count, dtype: int64"
      ]
     },
     "execution_count": 5,
     "metadata": {},
     "output_type": "execute_result"
    }
   ],
   "source": [
    "def compute_the_attacked_answer(row):\n",
    "    if row['result_type'] == 'Skipped':\n",
    "        return -1\n",
    "    \n",
    "    original = row['original_text']\n",
    "    modified = row['perturbed_text']\n",
    "    # ori_q, ori_icl_examples = get_demo_and_question(original)\n",
    "    mod_q, mod_icl_examples = get_demo_and_question(modified)\n",
    "\n",
    "    return compute_distributions(mod_q, mod_icl_examples)\n",
    "\n",
    "def compute_original_answer(row):\n",
    "    if row['result_type'] == 'Skipped':\n",
    "        return -1\n",
    "    \n",
    "    original = row['original_text']\n",
    "    modified = row['perturbed_text']\n",
    "    ori_q, ori_icl_examples = get_demo_and_question(original)\n",
    "    # mod_q, mod_icl_examples = get_demo_and_question(modified)\n",
    "\n",
    "    return compute_distributions(ori_q, ori_icl_examples)\n",
    "\n",
    "df['non_modifiable'] = df.progress_apply(compare_non_modifable, axis=1)\n",
    "df['attacked_answer'] = df.progress_apply(compute_the_attacked_answer, axis=1)\n",
    "df['original_answer'] = df.progress_apply(compute_original_answer, axis=1)\n",
    "\n",
    "df['attacked_answer'].value_counts()"
   ]
  },
  {
   "cell_type": "code",
   "execution_count": 6,
   "metadata": {},
   "outputs": [
    {
     "data": {
      "application/vnd.jupyter.widget-view+json": {
       "model_id": "cdfca87223ff45d1861a442335ab1c5a",
       "version_major": 2,
       "version_minor": 0
      },
      "text/plain": [
       "  0%|          | 0/277 [00:00<?, ?it/s]"
      ]
     },
     "metadata": {},
     "output_type": "display_data"
    },
    {
     "data": {
      "application/vnd.jupyter.widget-view+json": {
       "model_id": "841fb69a5fcc499da88926fa016a352b",
       "version_major": 2,
       "version_minor": 0
      },
      "text/plain": [
       "  0%|          | 0/277 [00:00<?, ?it/s]"
      ]
     },
     "metadata": {},
     "output_type": "display_data"
    },
    {
     "data": {
      "application/vnd.jupyter.widget-view+json": {
       "model_id": "b74010c982ea452297e4d87459f38159",
       "version_major": 2,
       "version_minor": 0
      },
      "text/plain": [
       "  0%|          | 0/277 [00:00<?, ?it/s]"
      ]
     },
     "metadata": {},
     "output_type": "display_data"
    }
   ],
   "source": [
    "def random_flip(icl_examples, percentage):\n",
    "    np.random.seed(1)\n",
    "    idx = np.random.choice(len(icl_examples), int(len(icl_examples) * percentage), replace=False)\n",
    "    for i in idx:\n",
    "        icl_examples[i] = (icl_examples[i][0], icl_examples[i][1], 'false' if icl_examples[i][2] == 'true' else 'true')\n",
    "\n",
    "    return icl_examples\n",
    "\n",
    "def fully_flip(row, label='false'):\n",
    "    original = row['original_text']\n",
    "    ori_q, ori_icl_examples = get_demo_and_question(original)\n",
    "    for i in range(len(ori_icl_examples)):\n",
    "        ori_icl_examples[i] = (ori_icl_examples[i][0], ori_icl_examples[i][1], label)\n",
    "\n",
    "    return compute_distributions(ori_q, ori_icl_examples)\n",
    "\n",
    "def compute_random_flip_original_answer(row):\n",
    "    if row['result_type'] == 'Skipped':\n",
    "        return -1\n",
    "    \n",
    "    original = row['original_text']\n",
    "    ori_q, ori_icl_examples = get_demo_and_question(original)\n",
    "    ori_icl_examples = random_flip(ori_icl_examples, 1.0)\n",
    "    # mod_q, mod_icl_examples = get_demo_and_question(modified)\n",
    "\n",
    "    return compute_distributions(ori_q, ori_icl_examples)\n",
    "\n",
    "df['random_flip_original_answer'] = df.progress_apply(compute_random_flip_original_answer, axis=1)\n",
    "df['full_flip_true_original_answer'] = df.progress_apply(lambda row: fully_flip(row, 'true'), axis=1)\n",
    "df['full_flip_false_original_answer'] = df.progress_apply(lambda row: fully_flip(row, 'false'), axis=1)"
   ]
  },
  {
   "cell_type": "code",
   "execution_count": 7,
   "metadata": {},
   "outputs": [
    {
     "name": "stdout",
     "output_type": "stream",
     "text": [
      "Original Accuracy\n",
      "0.6931\n",
      "\n",
      "Attack Accuracy\n",
      "0.4657\n",
      "\n",
      "Random Flip Accuracy\n",
      "0.5848\n",
      "\n",
      "All True Accuracy\n",
      "0.5307\n",
      "\n",
      "All False Accuracy\n",
      "0.4765\n"
     ]
    }
   ],
   "source": [
    "df['correct'] = df['original_answer'] == df['ground_truth_output']\n",
    "df['attack_correct'] = df['attacked_answer'] == df['ground_truth_output']\n",
    "df['random_flip_correct'] = df['random_flip_original_answer'] == df['ground_truth_output']\n",
    "df['full_flip_true_correct'] = df['full_flip_true_original_answer'] == df['ground_truth_output']\n",
    "df['full_flip_false_correct'] = df['full_flip_false_original_answer'] == df['ground_truth_output']\n",
    "\n",
    "print('Original Accuracy')\n",
    "print(round(df['correct'].value_counts()[True] / df['correct'].value_counts().sum(), 4))\n",
    "print('\\nAttack Accuracy')\n",
    "print(round(df['attack_correct'].value_counts()[True] / df['attack_correct'].value_counts().sum(), 4))\n",
    "print('\\nRandom Flip Accuracy')\n",
    "print(round(df['random_flip_correct'].value_counts()[True] / df['random_flip_correct'].value_counts().sum(), 4))\n",
    "\n",
    "print('\\nAll True Accuracy')\n",
    "print(round(df['full_flip_true_correct'].value_counts()[True] / df['full_flip_true_correct'].value_counts().sum(), 4))\n",
    "print('\\nAll False Accuracy')\n",
    "print(round(df['full_flip_false_correct'].value_counts()[True] / df['full_flip_false_correct'].value_counts().sum(), 4))"
   ]
  },
  {
   "cell_type": "code",
   "execution_count": 8,
   "metadata": {},
   "outputs": [
    {
     "data": {
      "text/plain": [
       "ground_truth_output\n",
       "true     0.527076\n",
       "false    0.472924\n",
       "Name: count, dtype: float64"
      ]
     },
     "execution_count": 8,
     "metadata": {},
     "output_type": "execute_result"
    }
   ],
   "source": [
    "ground_truth = df['ground_truth_output']\n",
    "ground_truth = ground_truth.apply(lambda x : 'true' if x == 0 else 'false')\n",
    "ground_truth.value_counts() / ground_truth.value_counts().sum()"
   ]
  },
  {
   "cell_type": "code",
   "execution_count": 9,
   "metadata": {},
   "outputs": [
    {
     "data": {
      "image/png": "[encoded data removed]",
      "text/plain": [
       "<Figure size 1000x500 with 1 Axes>"
      ]
     },
     "metadata": {},
     "output_type": "display_data"
    }
   ],
   "source": [
    "results = {\n",
    "    'Original ICL Accuracy' : df['correct'].value_counts(),\n",
    "    'Attack ICL Accuracy' : df['attack_correct'].value_counts(),\n",
    "    'Random Flip Accuracy' : df['random_flip_correct'].value_counts()\n",
    "}\n",
    "\n",
    "# normalize the results\n",
    "for key in results:\n",
    "    results[key] = results[key] / results[key].sum()\n",
    "\n",
    "# plot the bar chart\n",
    "import matplotlib.pyplot as plt\n",
    "import numpy as np\n",
    "\n",
    "def plot_bar(results):\n",
    "    labels = ['Original ICL Accuracy', 'Attack ICL Accuracy', 'Random Flip Accuracy']\n",
    "    correct = [results['Original ICL Accuracy'][True], results['Attack ICL Accuracy'][True], results['Random Flip Accuracy'][True]]\n",
    "    incorrect = [results['Original ICL Accuracy'][False], results['Attack ICL Accuracy'][False], results['Random Flip Accuracy'][False]]\n",
    "\n",
    "    x = np.arange(len(labels))  # the label locations\n",
    "    width = 0.35  # the width of the bars\n",
    "\n",
    "    fig, ax = plt.subplots(figsize=(10, 5))\n",
    "    rects1 = ax.bar(x - width/2, correct, width, label='Correct', hatch='//', edgecolor='black')\n",
    "    rects2 = ax.bar(x + width/2, incorrect, width, label='Incorrect', hatch='//', edgecolor='black')\n",
    "\n",
    "    # Add some text for labels, title and custom x-axis tick labels, etc.\n",
    "    ax.set_ylabel('Count')\n",
    "    ax.set_title('Accuracy')\n",
    "    ax.set_xticks(x)\n",
    "    ax.set_xticklabels(labels)\n",
    "    ax.legend()\n",
    "\n",
    "\n",
    "plot_bar(results)"
   ]
  },
  {
   "cell_type": "code",
   "execution_count": 10,
   "metadata": {},
   "outputs": [],
   "source": [
    "from collections import Counter\n",
    "\n",
    "def compute_label_icl_example_dist(row):\n",
    "    if row['result_type'] == 'Skipped':\n",
    "        return {}\n",
    "    \n",
    "    modified = row['perturbed_text']\n",
    "    mod_q, mod_icl_examples = get_demo_and_question(modified)\n",
    "\n",
    "    return dict(Counter([e[2] for e in mod_icl_examples]))\n",
    "\n",
    "df['attack_demonstrations_dist'] = df.apply(compute_label_icl_example_dist, axis=1)"
   ]
  },
  {
   "cell_type": "code",
   "execution_count": 11,
   "metadata": {},
   "outputs": [
    {
     "data": {
      "application/vnd.jupyter.widget-view+json": {
       "model_id": "39fdcde5175c46f5a37c6eb969a3c030",
       "version_major": 2,
       "version_minor": 0
      },
      "text/plain": [
       "  0%|          | 0/277 [00:00<?, ?it/s]"
      ]
     },
     "metadata": {},
     "output_type": "display_data"
    },
    {
     "data": {
      "text/html": [
       "<div>\n",
       "<style scoped>\n",
       "    .dataframe tbody tr th:only-of-type {\n",
       "        vertical-align: middle;\n",
       "    }\n",
       "\n",
       "    .dataframe tbody tr th {\n",
       "        vertical-align: top;\n",
       "    }\n",
       "\n",
       "    .dataframe thead th {\n",
       "        text-align: right;\n",
       "    }\n",
       "</style>\n",
       "<table border=\"1\" class=\"dataframe\">\n",
       "  <thead>\n",
       "    <tr style=\"text-align: right;\">\n",
       "      <th></th>\n",
       "      <th>original_text</th>\n",
       "      <th>perturbed_text</th>\n",
       "      <th>original_score</th>\n",
       "      <th>perturbed_score</th>\n",
       "      <th>original_output</th>\n",
       "      <th>perturbed_output</th>\n",
       "      <th>ground_truth_output</th>\n",
       "      <th>num_queries</th>\n",
       "      <th>result_type</th>\n",
       "      <th>non_modifiable</th>\n",
       "      <th>...</th>\n",
       "      <th>random_flip_original_answer</th>\n",
       "      <th>full_flip_true_original_answer</th>\n",
       "      <th>full_flip_false_original_answer</th>\n",
       "      <th>correct</th>\n",
       "      <th>attack_correct</th>\n",
       "      <th>random_flip_correct</th>\n",
       "      <th>full_flip_true_correct</th>\n",
       "      <th>full_flip_false_correct</th>\n",
       "      <th>attack_demonstrations_dist</th>\n",
       "      <th>perturbed_examples</th>\n",
       "    </tr>\n",
       "  </thead>\n",
       "  <tbody>\n",
       "    <tr>\n",
       "      <th>0</th>\n",
       "      <td>[[[[Premise]]]]: dana reeve, the widow of the ...</td>\n",
       "      <td>[[[[Premise]]]]: dana reeve, the widow of the ...</td>\n",
       "      <td>0.577495</td>\n",
       "      <td>0.577495</td>\n",
       "      <td>0</td>\n",
       "      <td>0</td>\n",
       "      <td>1</td>\n",
       "      <td>1</td>\n",
       "      <td>Skipped</td>\n",
       "      <td>True</td>\n",
       "      <td>...</td>\n",
       "      <td>-1</td>\n",
       "      <td>0</td>\n",
       "      <td>1</td>\n",
       "      <td>False</td>\n",
       "      <td>False</td>\n",
       "      <td>False</td>\n",
       "      <td>False</td>\n",
       "      <td>True</td>\n",
       "      <td>{}</td>\n",
       "      <td>[(george herbert walker bush (born june 12, 19...</td>\n",
       "    </tr>\n",
       "    <tr>\n",
       "      <th>1</th>\n",
       "      <td>[[[[Premise]]]]: yet, we now are discovering t...</td>\n",
       "      <td>[[[[Premise]]]]: yet, we now are discovering t...</td>\n",
       "      <td>0.629775</td>\n",
       "      <td>0.629775</td>\n",
       "      <td>1</td>\n",
       "      <td>1</td>\n",
       "      <td>0</td>\n",
       "      <td>1</td>\n",
       "      <td>Skipped</td>\n",
       "      <td>True</td>\n",
       "      <td>...</td>\n",
       "      <td>-1</td>\n",
       "      <td>0</td>\n",
       "      <td>1</td>\n",
       "      <td>False</td>\n",
       "      <td>False</td>\n",
       "      <td>False</td>\n",
       "      <td>True</td>\n",
       "      <td>False</td>\n",
       "      <td>{}</td>\n",
       "      <td>[(george herbert walker bush (born june 12, 19...</td>\n",
       "    </tr>\n",
       "    <tr>\n",
       "      <th>2</th>\n",
       "      <td>[[[[Premise]]]]: cairo is now home to some 15 ...</td>\n",
       "      <td>[[[[Premise]]]]: cairo is now home to some 15 ...</td>\n",
       "      <td>0.348645</td>\n",
       "      <td>0.503906</td>\n",
       "      <td>1</td>\n",
       "      <td>0</td>\n",
       "      <td>1</td>\n",
       "      <td>150</td>\n",
       "      <td>Successful</td>\n",
       "      <td>True</td>\n",
       "      <td>...</td>\n",
       "      <td>1</td>\n",
       "      <td>0</td>\n",
       "      <td>1</td>\n",
       "      <td>True</td>\n",
       "      <td>False</td>\n",
       "      <td>True</td>\n",
       "      <td>False</td>\n",
       "      <td>True</td>\n",
       "      <td>{'false': 8, 'true': 8}</td>\n",
       "      <td>[(george herbert walker bush (born june 12, 19...</td>\n",
       "    </tr>\n",
       "    <tr>\n",
       "      <th>3</th>\n",
       "      <td>[[[[Premise]]]]: the amish community in pennsy...</td>\n",
       "      <td>[[[[Premise]]]]: the amish community in pennsy...</td>\n",
       "      <td>0.433981</td>\n",
       "      <td>0.503906</td>\n",
       "      <td>1</td>\n",
       "      <td>0</td>\n",
       "      <td>1</td>\n",
       "      <td>114</td>\n",
       "      <td>Successful</td>\n",
       "      <td>True</td>\n",
       "      <td>...</td>\n",
       "      <td>1</td>\n",
       "      <td>0</td>\n",
       "      <td>1</td>\n",
       "      <td>True</td>\n",
       "      <td>False</td>\n",
       "      <td>True</td>\n",
       "      <td>False</td>\n",
       "      <td>True</td>\n",
       "      <td>{'false': 8, 'true': 8}</td>\n",
       "      <td>[(george herbert walker bush (born june 12, 19...</td>\n",
       "    </tr>\n",
       "    <tr>\n",
       "      <th>4</th>\n",
       "      <td>[[[[Premise]]]]: security forces were on high ...</td>\n",
       "      <td>[[[[Premise]]]]: security forces were on high ...</td>\n",
       "      <td>0.370225</td>\n",
       "      <td>0.546738</td>\n",
       "      <td>0</td>\n",
       "      <td>1</td>\n",
       "      <td>0</td>\n",
       "      <td>65</td>\n",
       "      <td>Successful</td>\n",
       "      <td>True</td>\n",
       "      <td>...</td>\n",
       "      <td>0</td>\n",
       "      <td>0</td>\n",
       "      <td>1</td>\n",
       "      <td>True</td>\n",
       "      <td>False</td>\n",
       "      <td>True</td>\n",
       "      <td>True</td>\n",
       "      <td>False</td>\n",
       "      <td>{'true': 8, 'false': 8}</td>\n",
       "      <td>[(george herbert walker bush (born june 12, 19...</td>\n",
       "    </tr>\n",
       "    <tr>\n",
       "      <th>...</th>\n",
       "      <td>...</td>\n",
       "      <td>...</td>\n",
       "      <td>...</td>\n",
       "      <td>...</td>\n",
       "      <td>...</td>\n",
       "      <td>...</td>\n",
       "      <td>...</td>\n",
       "      <td>...</td>\n",
       "      <td>...</td>\n",
       "      <td>...</td>\n",
       "      <td>...</td>\n",
       "      <td>...</td>\n",
       "      <td>...</td>\n",
       "      <td>...</td>\n",
       "      <td>...</td>\n",
       "      <td>...</td>\n",
       "      <td>...</td>\n",
       "      <td>...</td>\n",
       "      <td>...</td>\n",
       "      <td>...</td>\n",
       "      <td>...</td>\n",
       "    </tr>\n",
       "    <tr>\n",
       "      <th>272</th>\n",
       "      <td>[[[[Premise]]]]: swansea striker lee trundle h...</td>\n",
       "      <td>[[[[Premise]]]]: swansea striker lee trundle h...</td>\n",
       "      <td>0.426322</td>\n",
       "      <td>0.562177</td>\n",
       "      <td>0</td>\n",
       "      <td>1</td>\n",
       "      <td>0</td>\n",
       "      <td>65</td>\n",
       "      <td>Successful</td>\n",
       "      <td>True</td>\n",
       "      <td>...</td>\n",
       "      <td>1</td>\n",
       "      <td>0</td>\n",
       "      <td>1</td>\n",
       "      <td>True</td>\n",
       "      <td>False</td>\n",
       "      <td>False</td>\n",
       "      <td>True</td>\n",
       "      <td>False</td>\n",
       "      <td>{'true': 8, 'false': 8}</td>\n",
       "      <td>[(george herbert walker bush (born june 12, 19...</td>\n",
       "    </tr>\n",
       "    <tr>\n",
       "      <th>273</th>\n",
       "      <td>[[[[Premise]]]]: a light blue 1975 ford escort...</td>\n",
       "      <td>[[[[Premise]]]]: a light blue 1975 ford escort...</td>\n",
       "      <td>0.320821</td>\n",
       "      <td>0.558327</td>\n",
       "      <td>0</td>\n",
       "      <td>1</td>\n",
       "      <td>0</td>\n",
       "      <td>114</td>\n",
       "      <td>Successful</td>\n",
       "      <td>True</td>\n",
       "      <td>...</td>\n",
       "      <td>1</td>\n",
       "      <td>0</td>\n",
       "      <td>1</td>\n",
       "      <td>True</td>\n",
       "      <td>False</td>\n",
       "      <td>False</td>\n",
       "      <td>True</td>\n",
       "      <td>False</td>\n",
       "      <td>{'true': 8, 'false': 8}</td>\n",
       "      <td>[(george herbert walker bush (born june 12, 19...</td>\n",
       "    </tr>\n",
       "    <tr>\n",
       "      <th>274</th>\n",
       "      <td>[[[[Premise]]]]: on october 1 2001, eu and oth...</td>\n",
       "      <td>[[[[Premise]]]]: on october 1 2001, eu and oth...</td>\n",
       "      <td>0.414899</td>\n",
       "      <td>0.523420</td>\n",
       "      <td>0</td>\n",
       "      <td>1</td>\n",
       "      <td>0</td>\n",
       "      <td>114</td>\n",
       "      <td>Successful</td>\n",
       "      <td>True</td>\n",
       "      <td>...</td>\n",
       "      <td>0</td>\n",
       "      <td>0</td>\n",
       "      <td>1</td>\n",
       "      <td>True</td>\n",
       "      <td>True</td>\n",
       "      <td>True</td>\n",
       "      <td>True</td>\n",
       "      <td>False</td>\n",
       "      <td>{'true': 8, 'false': 8}</td>\n",
       "      <td>[(george herbert walker bush (born june 12, 19...</td>\n",
       "    </tr>\n",
       "    <tr>\n",
       "      <th>275</th>\n",
       "      <td>[[[[Premise]]]]: kozlowski and the company's f...</td>\n",
       "      <td>[[[[Premise]]]]: kozlowski and the company's f...</td>\n",
       "      <td>0.362969</td>\n",
       "      <td>0.538983</td>\n",
       "      <td>0</td>\n",
       "      <td>1</td>\n",
       "      <td>0</td>\n",
       "      <td>114</td>\n",
       "      <td>Successful</td>\n",
       "      <td>True</td>\n",
       "      <td>...</td>\n",
       "      <td>0</td>\n",
       "      <td>0</td>\n",
       "      <td>1</td>\n",
       "      <td>True</td>\n",
       "      <td>False</td>\n",
       "      <td>True</td>\n",
       "      <td>True</td>\n",
       "      <td>False</td>\n",
       "      <td>{'true': 8, 'false': 8}</td>\n",
       "      <td>[(george herbert walker bush (born june 12, 19...</td>\n",
       "    </tr>\n",
       "    <tr>\n",
       "      <th>276</th>\n",
       "      <td>[[[[Premise]]]]: danny kennedy, greenpeace cam...</td>\n",
       "      <td>[[[[Premise]]]]: danny kennedy, greenpeace cam...</td>\n",
       "      <td>0.105211</td>\n",
       "      <td>0.136608</td>\n",
       "      <td>1</td>\n",
       "      <td>1</td>\n",
       "      <td>1</td>\n",
       "      <td>205</td>\n",
       "      <td>Failed</td>\n",
       "      <td>True</td>\n",
       "      <td>...</td>\n",
       "      <td>1</td>\n",
       "      <td>0</td>\n",
       "      <td>1</td>\n",
       "      <td>True</td>\n",
       "      <td>True</td>\n",
       "      <td>True</td>\n",
       "      <td>False</td>\n",
       "      <td>True</td>\n",
       "      <td>{'false': 8, 'true': 8}</td>\n",
       "      <td>[(george herbert walker bush (born june 12, 19...</td>\n",
       "    </tr>\n",
       "  </tbody>\n",
       "</table>\n",
       "<p>277 rows × 22 columns</p>\n",
       "</div>"
      ],
      "text/plain": [
       "                                         original_text  \\\n",
       "0    [[[[Premise]]]]: dana reeve, the widow of the ...   \n",
       "1    [[[[Premise]]]]: yet, we now are discovering t...   \n",
       "2    [[[[Premise]]]]: cairo is now home to some 15 ...   \n",
       "3    [[[[Premise]]]]: the amish community in pennsy...   \n",
       "4    [[[[Premise]]]]: security forces were on high ...   \n",
       "..                                                 ...   \n",
       "272  [[[[Premise]]]]: swansea striker lee trundle h...   \n",
       "273  [[[[Premise]]]]: a light blue 1975 ford escort...   \n",
       "274  [[[[Premise]]]]: on october 1 2001, eu and oth...   \n",
       "275  [[[[Premise]]]]: kozlowski and the company's f...   \n",
       "276  [[[[Premise]]]]: danny kennedy, greenpeace cam...   \n",
       "\n",
       "                                        perturbed_text  original_score  \\\n",
       "0    [[[[Premise]]]]: dana reeve, the widow of the ...        0.577495   \n",
       "1    [[[[Premise]]]]: yet, we now are discovering t...        0.629775   \n",
       "2    [[[[Premise]]]]: cairo is now home to some 15 ...        0.348645   \n",
       "3    [[[[Premise]]]]: the amish community in pennsy...        0.433981   \n",
       "4    [[[[Premise]]]]: security forces were on high ...        0.370225   \n",
       "..                                                 ...             ...   \n",
       "272  [[[[Premise]]]]: swansea striker lee trundle h...        0.426322   \n",
       "273  [[[[Premise]]]]: a light blue 1975 ford escort...        0.320821   \n",
       "274  [[[[Premise]]]]: on october 1 2001, eu and oth...        0.414899   \n",
       "275  [[[[Premise]]]]: kozlowski and the company's f...        0.362969   \n",
       "276  [[[[Premise]]]]: danny kennedy, greenpeace cam...        0.105211   \n",
       "\n",
       "     perturbed_score  original_output  perturbed_output  ground_truth_output  \\\n",
       "0           0.577495                0                 0                    1   \n",
       "1           0.629775                1                 1                    0   \n",
       "2           0.503906                1                 0                    1   \n",
       "3           0.503906                1                 0                    1   \n",
       "4           0.546738                0                 1                    0   \n",
       "..               ...              ...               ...                  ...   \n",
       "272         0.562177                0                 1                    0   \n",
       "273         0.558327                0                 1                    0   \n",
       "274         0.523420                0                 1                    0   \n",
       "275         0.538983                0                 1                    0   \n",
       "276         0.136608                1                 1                    1   \n",
       "\n",
       "     num_queries result_type  non_modifiable  ...  \\\n",
       "0              1     Skipped            True  ...   \n",
       "1              1     Skipped            True  ...   \n",
       "2            150  Successful            True  ...   \n",
       "3            114  Successful            True  ...   \n",
       "4             65  Successful            True  ...   \n",
       "..           ...         ...             ...  ...   \n",
       "272           65  Successful            True  ...   \n",
       "273          114  Successful            True  ...   \n",
       "274          114  Successful            True  ...   \n",
       "275          114  Successful            True  ...   \n",
       "276          205      Failed            True  ...   \n",
       "\n",
       "     random_flip_original_answer  full_flip_true_original_answer  \\\n",
       "0                             -1                               0   \n",
       "1                             -1                               0   \n",
       "2                              1                               0   \n",
       "3                              1                               0   \n",
       "4                              0                               0   \n",
       "..                           ...                             ...   \n",
       "272                            1                               0   \n",
       "273                            1                               0   \n",
       "274                            0                               0   \n",
       "275                            0                               0   \n",
       "276                            1                               0   \n",
       "\n",
       "     full_flip_false_original_answer  correct  attack_correct  \\\n",
       "0                                  1    False           False   \n",
       "1                                  1    False           False   \n",
       "2                                  1     True           False   \n",
       "3                                  1     True           False   \n",
       "4                                  1     True           False   \n",
       "..                               ...      ...             ...   \n",
       "272                                1     True           False   \n",
       "273                                1     True           False   \n",
       "274                                1     True            True   \n",
       "275                                1     True           False   \n",
       "276                                1     True            True   \n",
       "\n",
       "     random_flip_correct  full_flip_true_correct  full_flip_false_correct  \\\n",
       "0                  False                   False                     True   \n",
       "1                  False                    True                    False   \n",
       "2                   True                   False                     True   \n",
       "3                   True                   False                     True   \n",
       "4                   True                    True                    False   \n",
       "..                   ...                     ...                      ...   \n",
       "272                False                    True                    False   \n",
       "273                False                    True                    False   \n",
       "274                 True                    True                    False   \n",
       "275                 True                    True                    False   \n",
       "276                 True                   False                     True   \n",
       "\n",
       "     attack_demonstrations_dist  \\\n",
       "0                            {}   \n",
       "1                            {}   \n",
       "2       {'false': 8, 'true': 8}   \n",
       "3       {'false': 8, 'true': 8}   \n",
       "4       {'true': 8, 'false': 8}   \n",
       "..                          ...   \n",
       "272     {'true': 8, 'false': 8}   \n",
       "273     {'true': 8, 'false': 8}   \n",
       "274     {'true': 8, 'false': 8}   \n",
       "275     {'true': 8, 'false': 8}   \n",
       "276     {'false': 8, 'true': 8}   \n",
       "\n",
       "                                    perturbed_examples  \n",
       "0    [(george herbert walker bush (born june 12, 19...  \n",
       "1    [(george herbert walker bush (born june 12, 19...  \n",
       "2    [(george herbert walker bush (born june 12, 19...  \n",
       "3    [(george herbert walker bush (born june 12, 19...  \n",
       "4    [(george herbert walker bush (born june 12, 19...  \n",
       "..                                                 ...  \n",
       "272  [(george herbert walker bush (born june 12, 19...  \n",
       "273  [(george herbert walker bush (born june 12, 19...  \n",
       "274  [(george herbert walker bush (born june 12, 19...  \n",
       "275  [(george herbert walker bush (born june 12, 19...  \n",
       "276  [(george herbert walker bush (born june 12, 19...  \n",
       "\n",
       "[277 rows x 22 columns]"
      ]
     },
     "execution_count": 11,
     "metadata": {},
     "output_type": "execute_result"
    }
   ],
   "source": [
    "df['perturbed_examples'] = df.progress_apply(lambda x : get_demo_and_question(x['perturbed_text'])[1], axis=1)\n",
    "# df.drop_duplicates(subset=['perturbed_examples'])\n",
    "df"
   ]
  },
  {
   "cell_type": "code",
   "execution_count": 12,
   "metadata": {},
   "outputs": [
    {
     "data": {
      "text/plain": [
       "[('george herbert walker bush (born june 12, 1924) is the former 41st president of the united states of america. almost immediately upon his return from the war in december 1944, george bush married barbara pierce.',\n",
       "  \"the name of george h.w. bush's wife is barbara.\",\n",
       "  'true'),\n",
       " ('it rewrites the rules of global trade, established by the general agreement on tariffs and trade, or gatt, in 1947, and modified in multiple rounds of negotiations since then.',\n",
       "  'gatt was formed in 1947.',\n",
       "  'false'),\n",
       " ('us military forces are evacuating u.s. citizens and citizens of 72 other countries from liberia at the request of the u.s.',\n",
       "  'u.s. military evacuated u.s. citizens.',\n",
       "  'false'),\n",
       " (\"floods are one of europe's most widespread disasters. major flooding has occurred nearly every year somewhere on our continent during the last few decades.\",\n",
       "  'flooding in europe causes major economic losses.',\n",
       "  'false'),\n",
       " ('rock stars aerosmith are to hold a free concert in hawaii to placate angry fans who brought a legal case against them. the walk this way hitmakers cancelled a sold-out show in maui two years ago, leaving hundreds of fans out of pocket. they filed a class action case, which claimed the band had pulled out in favour of a bigger gig in chicago and a private show for car dealers in oahu. lawyers for the would-be concert-goers said aerosmith had now agreed to put on a new show, and would pay all expenses.',\n",
       "  'aerosmith are a rock band.',\n",
       "  'true'),\n",
       " ('one reason for increased osteoporosis in developed countries is the sodium-potassium imbalance.',\n",
       "  'dietary intake of potassium prevents osteoporosis.',\n",
       "  'false'),\n",
       " ('jerusalem, april 2 (xinhua) -- israel\\'s new foreign minister avigdor lieberman was questioned by police on thursday over several criminal allegations, local news service ynet reported.  national fraud unit investigators questioned the deputy premier, who is suspected of bribery, money laundering, fraud and breach of trust, for over seven hours, and another round is in the cards, said the report.  \"lieberman answered all of the questions he was asked, and will continue to do so in the future,\" his attorney yaron kostelitz was quoted as saying.',\n",
       "  'avigdor lieberman is the foreign minister of israel.',\n",
       "  'true'),\n",
       " ('other friends were not surprised at his death. \"i wasn\\'t surprised,\" said george stranahan, a former owner of the woody creek tavern, a favourite haunt of thompson. \"i never expected hunter to die in a hospital bed with tubes coming out of him.\" neighbours have said how his broken leg had prevented him from leaving his house as often as he had liked to. one neighbour and long-standing friend, mike cleverly, said thompson was clearly hobbled by the broken leg. \"medically speaking, he\\'s had a rotten year.\"',\n",
       "  'the woody creek tavern is owned by george stranahan.',\n",
       "  'false'),\n",
       " ('witching hour passed and potter fans poured into bookshops around the world on saturday, snatching up copies of the latest instalment in the series that promises to be the fastest-selling book in history.',\n",
       "  'potter fans rushed to tills in order to purchase the book.',\n",
       "  'true'),\n",
       " (\"alan mulally, boeing's head of the unit, said at the start of the strike that it may cause delivery delays that would give airbus sas an advantage in what is the strongest commercial aircraft market in five years.\",\n",
       "  'alan mulally is the owner of boeing.',\n",
       "  'false'),\n",
       " (\"to promote the simpsons movie that will be released july 26, 2007, over a dozen 7-elevens in the united states have been transformed into kwik-e-marts, the grocery store from the popular tv series. most of the other 7-eleven stores will also sell products with brands reminding of the simpsons, such as buzz cola, krustyo's cereal, squishees, and bart simpson's favourite comic book radioactive man, but not duff beer, homer's favourite drink.\",\n",
       "  'the simpsons is a show broadcast in america.',\n",
       "  'true'),\n",
       " ('he is like some great writers, from charles dickens to william faulkner to gabriel garcia marquez',\n",
       "  'gabriel garcia marquez is a nobel prize winner.',\n",
       "  'false'),\n",
       " ('colin l. powell and laura bush, wife of gov. george w. bush, are to speak on the opening night in philadelphia, while the democrats have tentative plans to have president clinton and hillary rodham clinton address the delegates on the first night in los angeles.',\n",
       "  \"the name of george w. bush's wife is laura.\",\n",
       "  'true'),\n",
       " ('after insulting the un committee insinuating they were irrelavant, bush no sooner had approval from congress to use \"force/war\" if hussein did not permit unfettered access for inspections - and the war ships were moved into place on the gulf.',\n",
       "  'hussein gives un inspectors unfettered access.',\n",
       "  'false'),\n",
       " (\"while local cab drivers had compliments, not everyone appreciated the company. the chicago cubs decided to cancel their booking after hearing about the con, and j.j. hardy of the milwaukee brewers reported being kept up by fans on wednesday night. the brewers lost their game the following day. the convention closed with next year's date ―june 26-29 ―along with the announcement of a guest\",\n",
       "  'j.j. hardy has a contract with the milwaukee brewers.',\n",
       "  'true'),\n",
       " ('for a western european country, the birth rate in finland is high.',\n",
       "  'finland is the european country with the highest birth rate.',\n",
       "  'true')]"
      ]
     },
     "execution_count": 12,
     "metadata": {},
     "output_type": "execute_result"
    }
   ],
   "source": [
    "test_sample = df.iloc[4]\n",
    "get_demo_and_question(test_sample['perturbed_text'])[1]"
   ]
  },
  {
   "cell_type": "code",
   "execution_count": 13,
   "metadata": {},
   "outputs": [
    {
     "name": "stderr",
     "output_type": "stream",
     "text": [
      "/tmp/ipykernel_223147/1350612429.py:12: SettingWithCopyWarning: \n",
      "A value is trying to be set on a copy of a slice from a DataFrame.\n",
      "Try using .loc[row_indexer,col_indexer] = value instead\n",
      "\n",
      "See the caveats in the documentation: https://pandas.pydata.org/pandas-docs/stable/user_guide/indexing.html#returning-a-view-versus-a-copy\n",
      "  successful_attack['correct_label_dist'] = successful_attack.apply(get_the_label_dist, axis=1)\n"
     ]
    },
    {
     "data": {
      "image/png": "[encoded data removed]",
      "text/plain": [
       "<Figure size 1500x700 with 1 Axes>"
      ]
     },
     "metadata": {},
     "output_type": "display_data"
    }
   ],
   "source": [
    "successful_attack = df[df['result_type'] == 'Successful']\n",
    "\n",
    "def get_the_label_dist(row):\n",
    "    demo_dist = row['attack_demonstrations_dist']\n",
    "    # print(demo_dist)\n",
    "    if demo_dist == {}:\n",
    "        return {}\n",
    "    correct_answer = 'false' if row['ground_truth_output'] == 0 else 'true'\n",
    "\n",
    "    return {correct_answer: demo_dist[correct_answer]}\n",
    "\n",
    "successful_attack['correct_label_dist'] = successful_attack.apply(get_the_label_dist, axis=1)\n",
    "\n",
    "mapping = {0: 'false', 1: 'true'}\n",
    "\n",
    "# measure the correct_label_dist based on ground_truth_output and plot them on a line chart\n",
    "# successful_attack = successful_attack['correct_label_dist'].apply(lambda x: {mapping[k]: v for k, v in x.items()})\n",
    "\n",
    "\n",
    "buckets = {'true': [], 'false': []}\n",
    "for i, row in successful_attack.iterrows():\n",
    "    for k, v in row['correct_label_dist'].items():\n",
    "        buckets[k].append(v-8)\n",
    "\n",
    "# draw them on a 2d bar chart\n",
    "\n",
    "# final_bucket = buckets['true'] + [-1 * v for v in buckets['false']]\n",
    "\n",
    "# plot the histogram with larger than zero as green and smaller than zero as red\n",
    "import matplotlib.pyplot as plt\n",
    "import numpy as np\n",
    "\n",
    "def plot_histogram(buckets):\n",
    "    fig, ax = plt.subplots(figsize=(15, 7))\n",
    "    plt.bar([ x +0.25 for x in Counter(buckets['true']).keys()], [x / len(buckets['true']) for x in Counter(buckets['true']).values()], color='green', alpha=0.5, label='True', width=0.5)\n",
    "    plt.bar([ -1 * (x + 0.25) for x in Counter(buckets['false']).keys()], [x / len(buckets['false']) for x in Counter(buckets['false']).values()], color='red', alpha=0.5, label='False', width=0.5)\n",
    "    # plt.hist([-1 * b for b in buckets['false']], bins=25, color='red', alpha=0.5, label='False')\n",
    "    plt.title(\"Histogram of Successful Attacks\")\n",
    "    plt.xlabel(\"Number of Demonstrations\")\n",
    "    # make x axis as discrete values\n",
    "    plt.xticks(np.arange(-8, 9, 1))\n",
    "    plt.ylabel(\"Count\")\n",
    "    plt.legend(loc='upper right')\n",
    "    plt.show()\n",
    "\n",
    "plot_histogram(buckets)"
   ]
  },
  {
   "cell_type": "code",
   "execution_count": null,
   "metadata": {},
   "outputs": [],
   "source": [
    "# df[['ground_truth_output', 'attack_demonstrations_dist']][(df['attack_demonstrations_dist'] != {}) & (df['ground_truth_output'] == 1)]['attack_demonstrations_dist']\n",
    "attack_label_dist = {'false': [], 'true': []}\n",
    "for dic in list(successful_attack['correct_label_dist']):\n",
    "    if 'false' in dic:\n",
    "        attack_label_dist['false'].append((16-dic['false'], dic['false']))\n",
    "    else:\n",
    "        attack_label_dist['true'].append((dic['true'], 16-dic['true']))\n",
    "attack_label_dist = {'false': Counter(attack_label_dist['false']), 'true': Counter(attack_label_dist['true'])}\n",
    "attack_label_dist = {k : {kk: vv / sum(list(v.values())) for kk, vv in dict(v).items()}  for k, v in attack_label_dist.items()}\n",
    "\n",
    "# np.random.choice(range(len(attack_label_dist['false'])), p=list(attack_label_dist['false'].values()))\n",
    "label_mapping = {'false': 0 , 'true': 1}\n",
    "attack_label_dist = {label_mapping[k]: v for k, v in attack_label_dist.items()}\n",
    "labels, probs = {k: list(v.keys()) for k, v in attack_label_dist.items()}, {k: list(v.values()) for k, v in attack_label_dist.items()}\n",
    "\n",
    "def compute_acc_based_on_attack(row):\n",
    "    original = row['original_text']\n",
    "    ori_q, ori_icl_examples = get_demo_and_question(original)\n",
    "    label, prob = labels[row['ground_truth_output']], probs[row['ground_truth_output']]\n",
    "    dist = label[np.random.choice(range(len(label)), p=prob)]\n",
    "    label_dist = ['true'] * dist[0] + ['false'] * dist[1]\n",
    "    np.random.shuffle(label_dist)\n",
    "    for i in range(len(ori_icl_examples)):\n",
    "        ori_icl_examples[i] = (ori_icl_examples[i][0], ori_icl_examples[i][1], label_dist[i])        \n",
    "    # mod_q, mod_icl_examples = get_demo_and_question(modified)\n",
    "\n",
    "    return compute_distributions(ori_q, ori_icl_examples)\n",
    "\n",
    "df['attack_label_dist_answer'] = df.progress_apply(compute_acc_based_on_attack, axis=1)"
   ]
  },
  {
   "cell_type": "code",
   "execution_count": 82,
   "metadata": {},
   "outputs": [
    {
     "name": "stdout",
     "output_type": "stream",
     "text": [
      "Attack Label Accuracy\n",
      "0.4729\n"
     ]
    }
   ],
   "source": [
    "df['attack_label_dist_accuracy'] = df['attack_label_dist_answer'] == df['ground_truth_output']\n",
    "\n",
    "print('Attack Label Accuracy')\n",
    "print(round(df['attack_label_dist_accuracy'].value_counts()[True] / df['attack_label_dist_accuracy'].value_counts().sum(), 4))"
   ]
  },
  {
   "cell_type": "markdown",
   "metadata": {
    "jp-MarkdownHeadingCollapsed": true
   },
   "source": [
    "### Done"
   ]
  },
  {
   "cell_type": "code",
   "execution_count": null,
   "metadata": {},
   "outputs": [
    {
     "name": "stdout",
     "output_type": "stream",
     "text": [
      "{'true': 11, 'false': 5}\n",
      "{'true': 10, 'false': 6}\n",
      "{'true': 6, 'false': 10}\n",
      "{'false': 12, 'true': 4}\n",
      "{'true': 4, 'false': 12}\n",
      "{'true': 5, 'false': 11}\n",
      "{'true': 5, 'false': 11}\n",
      "{'true': 2, 'false': 14}\n",
      "{'true': 9, 'false': 7}\n",
      "{'true': 12, 'false': 4}\n",
      "{'true': 7, 'false': 9}\n",
      "{'true': 8, 'false': 8}\n",
      "{'true': 9, 'false': 7}\n",
      "{'true': 2, 'false': 14}\n",
      "{'true': 9, 'false': 7}\n",
      "{'true': 4, 'false': 12}\n",
      "{'true': 5, 'false': 11}\n",
      "{'true': 7, 'false': 9}\n",
      "{'true': 5, 'false': 11}\n",
      "{'true': 10, 'false': 6}\n",
      "{'true': 5, 'false': 11}\n",
      "{'true': 16}\n",
      "{'true': 12, 'false': 4}\n",
      "{'true': 6, 'false': 10}\n",
      "{'true': 13, 'false': 3}\n",
      "{'true': 14, 'false': 2}\n",
      "{'true': 9, 'false': 7}\n",
      "{'true': 10, 'false': 6}\n",
      "{'true': 13, 'false': 3}\n",
      "{'false': 10, 'true': 6}\n",
      "{'true': 9, 'false': 7}\n",
      "{'true': 9, 'false': 7}\n",
      "{'true': 3, 'false': 13}\n",
      "{'true': 15, 'false': 1}\n",
      "{'true': 15, 'false': 1}\n",
      "{'true': 14, 'false': 2}\n",
      "{'true': 11, 'false': 5}\n",
      "{'true': 6, 'false': 10}\n",
      "{'true': 11, 'false': 5}\n",
      "{'true': 6, 'false': 10}\n",
      "{'true': 9, 'false': 7}\n",
      "{'true': 13, 'false': 3}\n",
      "{'true': 6, 'false': 10}\n",
      "{'true': 8, 'false': 8}\n",
      "{'true': 10, 'false': 6}\n",
      "{'false': 10, 'true': 6}\n",
      "{'true': 5, 'false': 11}\n",
      "{'true': 7, 'false': 9}\n",
      "{'true': 6, 'false': 10}\n",
      "{'true': 16}\n",
      "{'false': 13, 'true': 3}\n",
      "{'false': 13, 'true': 3}\n",
      "{'true': 12, 'false': 4}\n",
      "{'true': 5, 'false': 11}\n",
      "{'true': 11, 'false': 5}\n",
      "{'false': 10, 'true': 6}\n",
      "{'true': 11, 'false': 5}\n",
      "{'true': 7, 'false': 9}\n",
      "{'true': 9, 'false': 7}\n",
      "{'true': 7, 'false': 9}\n",
      "{'true': 7, 'false': 9}\n",
      "{'true': 11, 'false': 5}\n",
      "{'false': 12, 'true': 4}\n",
      "{'true': 15, 'false': 1}\n",
      "{'true': 5, 'false': 11}\n",
      "{'true': 12, 'false': 4}\n",
      "{'true': 9, 'false': 7}\n",
      "{'false': 1, 'true': 15}\n",
      "{'true': 13, 'false': 3}\n",
      "{'true': 7, 'false': 9}\n",
      "{'true': 5, 'false': 11}\n",
      "{'true': 5, 'false': 11}\n",
      "{'false': 10, 'true': 6}\n",
      "{'true': 2, 'false': 14}\n",
      "{'true': 7, 'false': 9}\n",
      "{'true': 4, 'false': 12}\n",
      "{'true': 11, 'false': 5}\n",
      "{'true': 6, 'false': 10}\n",
      "{'true': 6, 'false': 10}\n",
      "{'true': 7, 'false': 9}\n",
      "{'true': 7, 'false': 9}\n",
      "{'true': 14, 'false': 2}\n",
      "{'true': 16}\n",
      "{'true': 9, 'false': 7}\n",
      "{'true': 10, 'false': 6}\n",
      "{'true': 7, 'false': 9}\n",
      "{'true': 12, 'false': 4}\n",
      "{'true': 13, 'false': 3}\n",
      "{'true': 9, 'false': 7}\n",
      "{'true': 5, 'false': 11}\n",
      "{'true': 5, 'false': 11}\n",
      "{'false': 11, 'true': 5}\n",
      "{'true': 4, 'false': 12}\n",
      "{'true': 9, 'false': 7}\n",
      "{'true': 5, 'false': 11}\n",
      "{'true': 10, 'false': 6}\n",
      "{'false': 1, 'true': 15}\n",
      "{'true': 9, 'false': 7}\n",
      "{'true': 7, 'false': 9}\n",
      "{'true': 7, 'false': 9}\n",
      "{'true': 9, 'false': 7}\n",
      "{'true': 7, 'false': 9}\n",
      "{'false': 11, 'true': 5}\n",
      "{'true': 3, 'false': 13}\n",
      "{'true': 15, 'false': 1}\n",
      "{'true': 7, 'false': 9}\n",
      "{'false': 12, 'true': 4}\n",
      "{'true': 9, 'false': 7}\n",
      "{'true': 7, 'false': 9}\n",
      "{'true': 9, 'false': 7}\n",
      "{'true': 6, 'false': 10}\n",
      "{'true': 11, 'false': 5}\n",
      "{'true': 16}\n",
      "{'true': 6, 'false': 10}\n",
      "{'true': 14, 'false': 2}\n",
      "{'true': 11, 'false': 5}\n",
      "{'true': 11, 'false': 5}\n",
      "{'true': 7, 'false': 9}\n",
      "{'true': 10, 'false': 6}\n",
      "{'false': 10, 'true': 6}\n",
      "{'true': 6, 'false': 10}\n",
      "{'true': 7, 'false': 9}\n",
      "{'true': 7, 'false': 9}\n",
      "{'true': 10, 'false': 6}\n",
      "{'true': 6, 'false': 10}\n",
      "{'true': 6, 'false': 10}\n",
      "{'true': 10, 'false': 6}\n",
      "{'true': 6, 'false': 10}\n",
      "{'true': 7, 'false': 9}\n",
      "{'true': 7, 'false': 9}\n",
      "{'true': 9, 'false': 7}\n",
      "{'true': 5, 'false': 11}\n",
      "{'true': 9, 'false': 7}\n",
      "{'true': 15, 'false': 1}\n",
      "{'true': 5, 'false': 11}\n",
      "{'true': 7, 'false': 9}\n",
      "{'true': 5, 'false': 11}\n",
      "{'true': 6, 'false': 10}\n",
      "{'true': 15, 'false': 1}\n",
      "{'true': 9, 'false': 7}\n",
      "{'true': 10, 'false': 6}\n",
      "{'true': 12, 'false': 4}\n",
      "{'true': 9, 'false': 7}\n",
      "{'true': 7, 'false': 9}\n",
      "{'true': 7, 'false': 9}\n",
      "{'true': 14, 'false': 2}\n",
      "{'true': 7, 'false': 9}\n",
      "{'true': 6, 'false': 10}\n",
      "{'true': 6, 'false': 10}\n",
      "{'true': 7, 'false': 9}\n",
      "{'true': 9, 'false': 7}\n",
      "{'true': 13, 'false': 3}\n",
      "{'true': 6, 'false': 10}\n",
      "{'true': 3, 'false': 13}\n",
      "{'true': 7, 'false': 9}\n",
      "{'true': 12, 'false': 4}\n",
      "{'true': 7, 'false': 9}\n",
      "{'true': 9, 'false': 7}\n",
      "{'true': 2, 'false': 14}\n",
      "{'true': 9, 'false': 7}\n",
      "{'true': 14, 'false': 2}\n",
      "{'true': 11, 'false': 5}\n",
      "{'true': 13, 'false': 3}\n",
      "{'true': 10, 'false': 6}\n",
      "{'true': 14, 'false': 2}\n",
      "{'true': 10, 'false': 6}\n",
      "{'true': 11, 'false': 5}\n",
      "{'true': 5, 'false': 11}\n",
      "{'true': 5, 'false': 11}\n",
      "{'true': 7, 'false': 9}\n",
      "{'true': 11, 'false': 5}\n",
      "{'true': 7, 'false': 9}\n",
      "{'true': 7, 'false': 9}\n",
      "{'true': 6, 'false': 10}\n",
      "{'true': 6, 'false': 10}\n",
      "{'true': 11, 'false': 5}\n",
      "{'true': 7, 'false': 9}\n",
      "{'true': 9, 'false': 7}\n",
      "{'true': 9, 'false': 7}\n",
      "{'true': 9, 'false': 7}\n",
      "{'true': 7, 'false': 9}\n",
      "{'true': 6, 'false': 10}\n",
      "{'true': 7, 'false': 9}\n",
      "{'true': 6, 'false': 10}\n"
     ]
    },
    {
     "name": "stderr",
     "output_type": "stream",
     "text": [
      "/tmp/ipykernel_94918/3728017454.py:12: SettingWithCopyWarning: \n",
      "A value is trying to be set on a copy of a slice from a DataFrame.\n",
      "Try using .loc[row_indexer,col_indexer] = value instead\n",
      "\n",
      "See the caveats in the documentation: https://pandas.pydata.org/pandas-docs/stable/user_guide/indexing.html#returning-a-view-versus-a-copy\n",
      "  successful_attack['correct_label_dist'] = successful_attack.apply(get_the_label_dist, axis=1)\n"
     ]
    },
    {
     "ename": "NameError",
     "evalue": "name 'final_bucket' is not defined",
     "output_type": "error",
     "traceback": [
      "\u001b[0;31m---------------------------------------------------------------------------\u001b[0m",
      "\u001b[0;31mNameError\u001b[0m                                 Traceback (most recent call last)",
      "\u001b[1;32m/mnt/ceph_rbd/mvp/src/test.ipynb Cell 31\u001b[0m line \u001b[0;36m4\n\u001b[1;32m     <a href='vscode-notebook-cell://ssh-remote%2Bpod_2/mnt/ceph_rbd/mvp/src/test.ipynb#X42sdnNjb2RlLXJlbW90ZQ%3D%3D?line=41'>42</a>\u001b[0m     plt\u001b[39m.\u001b[39mlegend(loc\u001b[39m=\u001b[39m\u001b[39m'\u001b[39m\u001b[39mupper right\u001b[39m\u001b[39m'\u001b[39m)\n\u001b[1;32m     <a href='vscode-notebook-cell://ssh-remote%2Bpod_2/mnt/ceph_rbd/mvp/src/test.ipynb#X42sdnNjb2RlLXJlbW90ZQ%3D%3D?line=42'>43</a>\u001b[0m     plt\u001b[39m.\u001b[39mshow()\n\u001b[0;32m---> <a href='vscode-notebook-cell://ssh-remote%2Bpod_2/mnt/ceph_rbd/mvp/src/test.ipynb#X42sdnNjb2RlLXJlbW90ZQ%3D%3D?line=44'>45</a>\u001b[0m plot_histogram(final_bucket)\n",
      "\u001b[0;31mNameError\u001b[0m: name 'final_bucket' is not defined"
     ]
    }
   ],
   "source": [
    "successful_attack = df[df['result_type'] == 'Successful']\n",
    "\n",
    "def get_the_label_dist(row):\n",
    "    demo_dist = row['attack_demonstrations_dist']\n",
    "    print(demo_dist)\n",
    "    if demo_dist == {}:\n",
    "        return {}\n",
    "    correct_answer = 'false' if row['ground_truth_output'] == 0 else 'true'\n",
    "\n",
    "    return {correct_answer: demo_dist[correct_answer]}\n",
    "\n",
    "successful_attack['correct_label_dist'] = successful_attack.apply(get_the_label_dist, axis=1)\n",
    "\n",
    "mapping = {0: 'false', 1: 'true'}\n",
    "\n",
    "# measure the correct_label_dist based on ground_truth_output and plot them on a line chart\n",
    "# successful_attack = successful_attack['correct_label_dist'].apply(lambda x: {mapping[k]: v for k, v in x.items()})\n",
    "\n",
    "\n",
    "buckets = {'true': [], 'false': []}\n",
    "for i, row in successful_attack.iterrows():\n",
    "    for k, v in row['correct_label_dist'].items():\n",
    "        buckets[k].append(v-8)\n",
    "\n",
    "# draw them on a 2d bar chart\n",
    "\n",
    "# final_bucket = buckets['true'] + [-1 * v for v in buckets['false']]\n",
    "\n",
    "# plot the histogram with larger than zero as green and smaller than zero as red\n",
    "import matplotlib.pyplot as plt\n",
    "import numpy as np\n",
    "\n",
    "def plot_histogram(buckets):\n",
    "    fig, ax = plt.subplots(figsize=(15, 7))\n",
    "    plt.hist(buckets['true'], bins=20, color='green', alpha=0.5, label='True')\n",
    "    plt.hist(buckets['false'], bins=20, color='red', alpha=0.5, label='False')\n",
    "    plt.title(\"Histogram of Successful Attacks\")\n",
    "    plt.xlabel(\"Number of Demonstrations\")\n",
    "    # make x axis as discrete values\n",
    "    plt.xticks(np.arange(-16, 17, 1))\n",
    "    plt.ylabel(\"Count\")\n",
    "    plt.legend(loc='upper right')\n",
    "    plt.show()\n",
    "\n",
    "plot_histogram(buckets)"
   ]
  },
  {
   "cell_type": "code",
   "execution_count": 23,
   "metadata": {},
   "outputs": [
    {
     "data": {
      "text/html": [
       "<div>\n",
       "<style scoped>\n",
       "    .dataframe tbody tr th:only-of-type {\n",
       "        vertical-align: middle;\n",
       "    }\n",
       "\n",
       "    .dataframe tbody tr th {\n",
       "        vertical-align: top;\n",
       "    }\n",
       "\n",
       "    .dataframe thead th {\n",
       "        text-align: right;\n",
       "    }\n",
       "</style>\n",
       "<table border=\"1\" class=\"dataframe\">\n",
       "  <thead>\n",
       "    <tr style=\"text-align: right;\">\n",
       "      <th></th>\n",
       "      <th>original_text</th>\n",
       "      <th>perturbed_text</th>\n",
       "      <th>original_score</th>\n",
       "      <th>perturbed_score</th>\n",
       "      <th>original_output</th>\n",
       "      <th>perturbed_output</th>\n",
       "      <th>ground_truth_output</th>\n",
       "      <th>num_queries</th>\n",
       "      <th>result_type</th>\n",
       "      <th>attack_demonstrations_dist</th>\n",
       "    </tr>\n",
       "  </thead>\n",
       "  <tbody>\n",
       "    <tr>\n",
       "      <th>0</th>\n",
       "      <td>[[[[Premise]]]]: dana reeve, the widow of the ...</td>\n",
       "      <td>[[[[Premise]]]]: dana reeve, the widow of the ...</td>\n",
       "      <td>0.577495</td>\n",
       "      <td>0.577495</td>\n",
       "      <td>0</td>\n",
       "      <td>0</td>\n",
       "      <td>1</td>\n",
       "      <td>1</td>\n",
       "      <td>Skipped</td>\n",
       "      <td>{}</td>\n",
       "    </tr>\n",
       "    <tr>\n",
       "      <th>1</th>\n",
       "      <td>[[[[Premise]]]]: yet, we now are discovering t...</td>\n",
       "      <td>[[[[Premise]]]]: yet, we now are discovering t...</td>\n",
       "      <td>0.629775</td>\n",
       "      <td>0.629775</td>\n",
       "      <td>1</td>\n",
       "      <td>1</td>\n",
       "      <td>0</td>\n",
       "      <td>1</td>\n",
       "      <td>Skipped</td>\n",
       "      <td>{}</td>\n",
       "    </tr>\n",
       "    <tr>\n",
       "      <th>2</th>\n",
       "      <td>[[[[Premise]]]]: cairo is now home to some 15 ...</td>\n",
       "      <td>[[[[Premise]]]]: cairo is now home to some 15 ...</td>\n",
       "      <td>0.348645</td>\n",
       "      <td>0.531209</td>\n",
       "      <td>1</td>\n",
       "      <td>0</td>\n",
       "      <td>1</td>\n",
       "      <td>46</td>\n",
       "      <td>Successful</td>\n",
       "      <td>{'true': 11, 'false': 5}</td>\n",
       "    </tr>\n",
       "    <tr>\n",
       "      <th>3</th>\n",
       "      <td>[[[[Premise]]]]: the amish community in pennsy...</td>\n",
       "      <td>[[[[Premise]]]]: the amish community in pennsy...</td>\n",
       "      <td>0.433981</td>\n",
       "      <td>0.542863</td>\n",
       "      <td>1</td>\n",
       "      <td>0</td>\n",
       "      <td>1</td>\n",
       "      <td>32</td>\n",
       "      <td>Successful</td>\n",
       "      <td>{'true': 10, 'false': 6}</td>\n",
       "    </tr>\n",
       "    <tr>\n",
       "      <th>4</th>\n",
       "      <td>[[[[Premise]]]]: security forces were on high ...</td>\n",
       "      <td>[[[[Premise]]]]: security forces were on high ...</td>\n",
       "      <td>0.370225</td>\n",
       "      <td>0.566019</td>\n",
       "      <td>0</td>\n",
       "      <td>1</td>\n",
       "      <td>0</td>\n",
       "      <td>32</td>\n",
       "      <td>Successful</td>\n",
       "      <td>{'true': 6, 'false': 10}</td>\n",
       "    </tr>\n",
       "  </tbody>\n",
       "</table>\n",
       "</div>"
      ],
      "text/plain": [
       "                                       original_text  \\\n",
       "0  [[[[Premise]]]]: dana reeve, the widow of the ...   \n",
       "1  [[[[Premise]]]]: yet, we now are discovering t...   \n",
       "2  [[[[Premise]]]]: cairo is now home to some 15 ...   \n",
       "3  [[[[Premise]]]]: the amish community in pennsy...   \n",
       "4  [[[[Premise]]]]: security forces were on high ...   \n",
       "\n",
       "                                      perturbed_text  original_score  \\\n",
       "0  [[[[Premise]]]]: dana reeve, the widow of the ...        0.577495   \n",
       "1  [[[[Premise]]]]: yet, we now are discovering t...        0.629775   \n",
       "2  [[[[Premise]]]]: cairo is now home to some 15 ...        0.348645   \n",
       "3  [[[[Premise]]]]: the amish community in pennsy...        0.433981   \n",
       "4  [[[[Premise]]]]: security forces were on high ...        0.370225   \n",
       "\n",
       "   perturbed_score  original_output  perturbed_output  ground_truth_output  \\\n",
       "0         0.577495                0                 0                    1   \n",
       "1         0.629775                1                 1                    0   \n",
       "2         0.531209                1                 0                    1   \n",
       "3         0.542863                1                 0                    1   \n",
       "4         0.566019                0                 1                    0   \n",
       "\n",
       "   num_queries result_type attack_demonstrations_dist  \n",
       "0            1     Skipped                         {}  \n",
       "1            1     Skipped                         {}  \n",
       "2           46  Successful   {'true': 11, 'false': 5}  \n",
       "3           32  Successful   {'true': 10, 'false': 6}  \n",
       "4           32  Successful   {'true': 6, 'false': 10}  "
      ]
     },
     "execution_count": 23,
     "metadata": {},
     "output_type": "execute_result"
    }
   ],
   "source": [
    "df.head()"
   ]
  },
  {
   "cell_type": "code",
   "execution_count": null,
   "metadata": {},
   "outputs": [],
   "source": [
    "\n",
    "demonstration = \"\"\"\n",
    "[[[[Premise]]]]: cairo is now home to some 15 million people - a burgeoning population that produces approximately 10,000 tonnes of rubbish per day, putting an enormous strain on public services. in the past 10 years, the government has tried hard to encourage private investment in the refuse sector, but some estimate 4,000 tonnes of waste is left behind every day, festering in the heat as it waits for someone to clear it up. it is often the people in the poorest neighbourhoods that are worst affected. but in some areas they are fighting back. in shubra, one of the northern districts of the city, the residents have taken to the streets armed with dustpans and brushes to clean up public areas which have been used as public dumps.<SPLIT>[[[[Hypothesis]]]]: 15 million tonnes of rubbish are produced daily in cairo.<SPLIT>[[[[Premise_0]]]]: george herbert walker bush (born june 12, 1924) is the former 41st president of the united states of america. almost immediately upon his return from the war in december 1944, george bush married barbara pierce.<SPLIT>[[[[Hypothesis_0]]]]: the name of george h.w. bush's wife is barbara.<SPLIT>[[[[Label_0]]]]: true<SPLIT>[[[[Premise_1]]]]: it rewrites the rules of global trade, established by the general agreement on tariffs and trade, or gatt, in 1947, and modified in multiple rounds of negotiations since then.<SPLIT>[[[[Hypothesis_1]]]]: gatt was formed in 1947.<SPLIT>[[[[Label_1]]]]: false<SPLIT>[[[[Premise_2]]]]: us military forces are evacuating u.s. citizens and citizens of 72 other countries from liberia at the request of the u.s.<SPLIT>[[[[Hypothesis_2]]]]: u.s. military evacuated u.s. citizens.<SPLIT>[[[[Label_2]]]]: true<SPLIT>[[[[Premise_3]]]]: floods are one of europe's most widespread disasters. major flooding has occurred nearly every year somewhere on our continent during the last few decades.<SPLIT>[[[[Hypothesis_3]]]]: flooding in europe causes major economic losses.<SPLIT>[[[[Label_3]]]]: [[false]]<SPLIT>[[[[Premise_4]]]]: rock stars aerosmith are to hold a free concert in hawaii to placate angry fans who brought a legal case against them. the walk this way hitmakers cancelled a sold-out show in maui two years ago, leaving hundreds of fans out of pocket. they filed a class action case, which claimed the band had pulled out in favour of a bigger gig in chicago and a private show for car dealers in oahu. lawyers for the would-be concert-goers said aerosmith had now agreed to put on a new show, and would pay all expenses.<SPLIT>[[[[Hypothesis_4]]]]: aerosmith are a rock band.<SPLIT>[[[[Label_4]]]]: true<SPLIT>[[[[Premise_5]]]]: one reason for increased osteoporosis in developed countries is the sodium-potassium imbalance.<SPLIT>[[[[Hypothesis_5]]]]: dietary intake of potassium prevents osteoporosis.<SPLIT>[[[[Label_5]]]]: [[false]]<SPLIT>[[[[Premise_6]]]]: jerusalem, april 2 (xinhua) -- israel's new foreign minister avigdor lieberman was questioned by police on thursday over several criminal allegations, local news service ynet reported.  national fraud unit investigators questioned the deputy premier, who is suspected of bribery, money laundering, fraud and breach of trust, for over seven hours, and another round is in the cards, said the report.  \"\"lieberman answered all of the questions he was asked, and will continue to do so in the future,\"\" his attorney yaron kostelitz was quoted as saying.<SPLIT>[[[[Hypothesis_6]]]]: avigdor lieberman is the foreign minister of israel.<SPLIT>[[[[Label_6]]]]: true<SPLIT>[[[[Premise_7]]]]: other friends were not surprised at his death. \"\"i wasn't surprised,\"\" said george stranahan, a former owner of the woody creek tavern, a favourite haunt of thompson. \"\"i never expected hunter to die in a hospital bed with tubes coming out of him.\"\" neighbours have said how his broken leg had prevented him from leaving his house as often as he had liked to. one neighbour and long-standing friend, mike cleverly, said thompson was clearly hobbled by the broken leg. \"\"medically speaking, he's had a rotten year.\"\"<SPLIT>[[[[Hypothesis_7]]]]: the woody creek tavern is owned by george stranahan.<SPLIT>[[[[Label_7]]]]: false<SPLIT>[[[[Premise_8]]]]: witching hour passed and potter fans poured into bookshops around the world on saturday, snatching up copies of the latest instalment in the series that promises to be the fastest-selling book in history.<SPLIT>[[[[Hypothesis_8]]]]: potter fans rushed to tills in order to purchase the book.<SPLIT>[[[[Label_8]]]]: true<SPLIT>[[[[Premise_9]]]]: alan mulally, boeing's head of the unit, said at the start of the strike that it may cause delivery delays that would give airbus sas an advantage in what is the strongest commercial aircraft market in five years.<SPLIT>[[[[Hypothesis_9]]]]: alan mulally is the owner of boeing.<SPLIT>[[[[Label_9]]]]: false<SPLIT>[[[[Premise_10]]]]: to promote the simpsons movie that will be released july 26, 2007, over a dozen 7-elevens in the united states have been transformed into kwik-e-marts, the grocery store from the popular tv series. most of the other 7-eleven stores will also sell products with brands reminding of the simpsons, such as buzz cola, krustyo's cereal, squishees, and bart simpson's favourite comic book radioactive man, but not duff beer, homer's favourite drink.<SPLIT>[[[[Hypothesis_10]]]]: the simpsons is a show broadcast in america.<SPLIT>[[[[Label_10]]]]: true<SPLIT>[[[[Premise_11]]]]: he is like some great writers, from charles dickens to william faulkner to gabriel garcia marquez: the insistence on the value of the local leads to the universal.<SPLIT>[[[[Hypothesis_11]]]]: gabriel garcia marquez is a nobel prize winner.<SPLIT>[[[[Label_11]]]]: false<SPLIT>[[[[Premise_12]]]]: colin l. powell and laura bush, wife of gov. george w. bush, are to speak on the opening night in philadelphia, while the democrats have tentative plans to have president clinton and hillary rodham clinton address the delegates on the first night in los angeles.<SPLIT>[[[[Hypothesis_12]]]]: the name of george w. bush's wife is laura.<SPLIT>[[[[Label_12]]]]: true<SPLIT>[[[[Premise_13]]]]: after insulting the un committee insinuating they were irrelavant, bush no sooner had approval from congress to use \"\"force/war\"\" if hussein did not permit unfettered access for inspections - and the war ships were moved into place on the gulf.<SPLIT>[[[[Hypothesis_13]]]]: hussein gives un inspectors unfettered access.<SPLIT>[[[[Label_13]]]]: [[false]]<SPLIT>[[[[Premise_14]]]]: while local cab drivers had compliments, not everyone appreciated the company. the chicago cubs decided to cancel their booking after hearing about the con, and j.j. hardy of the milwaukee brewers reported being kept up by fans on wednesday night. the brewers lost their game the following day. the convention closed with next year's date ―june 26-29 ―along with the announcement of a guest: disney animator floyd norman. the event's theme will be \"\"it's a jungle out there!\"\".<SPLIT>[[[[Hypothesis_14]]]]: j.j. hardy has a contract with the milwaukee brewers.<SPLIT>[[[[Label_14]]]]: true<SPLIT>[[[[Premise_15]]]]: for a western european country, the birth rate in finland is high.<SPLIT>[[[[Hypothesis_15]]]]: finland is the european country with the highest birth rate.<SPLIT>[[[[Label_15]]]]: false\"\"\"\n",
    "\n",
    "demons = demonstration.split(\"<SPLIT>\")\n",
    "demons = [demon.split(\":\")[1].strip('\\n ').strip('[]') for demon in demons]\n",
    "\n",
    "question = (demons[0], demons[1], \"\")\n",
    "icl_examples = []\n",
    "demons = demons[2:]\n",
    "for i in range(len(demons) // 3):\n",
    "    icl_examples.append((demons[i * 3], demons[i * 3 + 1], demons[i * 3 + 2]))\n",
    "\n",
    "template = \"{}\\n The question is: {}. True or False?\\nThe Answer is: {}\"\n",
    "verbalizer = {0: \"true\", 1: \"false\"}\n",
    "\n",
    "demos = []\n",
    "for demo in icl_examples:\n",
    "    demos.append(template.format(demo[0], demo[1], demo[2]))\n",
    "q = template.format(question[0], question[1], \"\").strip()\n",
    "\n",
    "prompt = \"\\n\\n\".join(demos) + \"\\n\\n\" + q\n",
    "\n",
    "tokenized = tokenizer(prompt, return_tensors=\"pt\", padding=True).to('cuda')\n",
    "logits = model(**tokenized).logits\n",
    "output = logits[:, -1, :].detach().cpu()\n",
    "\n",
    "print(prompt)\n",
    "\n",
    "label_id = [tokenizer.encode(verbalizer[0])[1], tokenizer.encode(verbalizer[1])[1]]\n",
    "\n",
    "print(tokenizer.decode(output.argmax(dim=-1)))\n",
    "output_label = output[:, label_id].softmax(dim=-1)\n",
    "output_label"
   ]
  },
  {
   "cell_type": "code",
   "execution_count": 11,
   "metadata": {},
   "outputs": [
    {
     "name": "stdout",
     "output_type": "stream",
     "text": [
      "true\n",
      "george herbert walker bush (born june 12, 1924) is the former 41st president of the united states of america. almost immediately upon his return from the war in december 1944, george bush married barbara pierce.\n",
      " The question is: the name of george h.w. bush's wife is barbara.. True or False?\n",
      "The Answer is: true\n",
      "\n",
      "it rewrites the rules of global trade, established by the general agreement on tariffs and trade, or gatt, in 1947, and modified in multiple rounds of negotiations since then.\n",
      " The question is: gatt was formed in 1947.. True or False?\n",
      "The Answer is: false\n",
      "\n",
      "us military forces are evacuating u.s. citizens and citizens of 72 other countries from liberia at the request of the u.s.\n",
      " The question is: u.s. military evacuated u.s. citizens.. True or False?\n",
      "The Answer is: true\n",
      "\n",
      "floods are one of europe's most widespread disasters. major flooding has occurred nearly every year somewhere on our continent during the last few decades.\n",
      " The question is: flooding in europe causes major economic losses.. True or False?\n",
      "The Answer is: true\n",
      "\n",
      "rock stars aerosmith are to hold a free concert in hawaii to placate angry fans who brought a legal case against them. the walk this way hitmakers cancelled a sold-out show in maui two years ago, leaving hundreds of fans out of pocket. they filed a class action case, which claimed the band had pulled out in favour of a bigger gig in chicago and a private show for car dealers in oahu. lawyers for the would-be concert-goers said aerosmith had now agreed to put on a new show, and would pay all expenses.\n",
      " The question is: aerosmith are a rock band.. True or False?\n",
      "The Answer is: true\n",
      "\n",
      "one reason for increased osteoporosis in developed countries is the sodium-potassium imbalance.\n",
      " The question is: dietary intake of potassium prevents osteoporosis.. True or False?\n",
      "The Answer is: true\n",
      "\n",
      "jerusalem, april 2 (xinhua) -- israel's new foreign minister avigdor lieberman was questioned by police on thursday over several criminal allegations, local news service ynet reported.  national fraud unit investigators questioned the deputy premier, who is suspected of bribery, money laundering, fraud and breach of trust, for over seven hours, and another round is in the cards, said the report.  \"\"lieberman answered all of the questions he was asked, and will continue to do so in the future,\"\" his attorney yaron kostelitz was quoted as saying.\n",
      " The question is: avigdor lieberman is the foreign minister of israel.. True or False?\n",
      "The Answer is: true\n",
      "\n",
      "other friends were not surprised at his death. \"\"i wasn't surprised,\"\" said george stranahan, a former owner of the woody creek tavern, a favourite haunt of thompson. \"\"i never expected hunter to die in a hospital bed with tubes coming out of him.\"\" neighbours have said how his broken leg had prevented him from leaving his house as often as he had liked to. one neighbour and long-standing friend, mike cleverly, said thompson was clearly hobbled by the broken leg. \"\"medically speaking, he's had a rotten year.\"\"\n",
      " The question is: the woody creek tavern is owned by george stranahan.. True or False?\n",
      "The Answer is: false\n",
      "\n",
      "witching hour passed and potter fans poured into bookshops around the world on saturday, snatching up copies of the latest instalment in the series that promises to be the fastest-selling book in history.\n",
      " The question is: potter fans rushed to tills in order to purchase the book.. True or False?\n",
      "The Answer is: true\n",
      "\n",
      "alan mulally, boeing's head of the unit, said at the start of the strike that it may cause delivery delays that would give airbus sas an advantage in what is the strongest commercial aircraft market in five years.\n",
      " The question is: alan mulally is the owner of boeing.. True or False?\n",
      "The Answer is: false\n",
      "\n",
      "to promote the simpsons movie that will be released july 26, 2007, over a dozen 7-elevens in the united states have been transformed into kwik-e-marts, the grocery store from the popular tv series. most of the other 7-eleven stores will also sell products with brands reminding of the simpsons, such as buzz cola, krustyo's cereal, squishees, and bart simpson's favourite comic book radioactive man, but not duff beer, homer's favourite drink.\n",
      " The question is: the simpsons is a show broadcast in america.. True or False?\n",
      "The Answer is: true\n",
      "\n",
      "he is like some great writers, from charles dickens to william faulkner to gabriel garcia marquez\n",
      " The question is: gabriel garcia marquez is a nobel prize winner.. True or False?\n",
      "The Answer is: false\n",
      "\n",
      "colin l. powell and laura bush, wife of gov. george w. bush, are to speak on the opening night in philadelphia, while the democrats have tentative plans to have president clinton and hillary rodham clinton address the delegates on the first night in los angeles.\n",
      " The question is: the name of george w. bush's wife is laura.. True or False?\n",
      "The Answer is: true\n",
      "\n",
      "after insulting the un committee insinuating they were irrelavant, bush no sooner had approval from congress to use \"\"force/war\"\" if hussein did not permit unfettered access for inspections - and the war ships were moved into place on the gulf.\n",
      " The question is: hussein gives un inspectors unfettered access.. True or False?\n",
      "The Answer is: true\n",
      "\n",
      "while local cab drivers had compliments, not everyone appreciated the company. the chicago cubs decided to cancel their booking after hearing about the con, and j.j. hardy of the milwaukee brewers reported being kept up by fans on wednesday night. the brewers lost their game the following day. the convention closed with next year's date ―june 26-29 ―along with the announcement of a guest\n",
      " The question is: j.j. hardy has a contract with the milwaukee brewers.. True or False?\n",
      "The Answer is: true\n",
      "\n",
      "for a western european country, the birth rate in finland is high.\n",
      " The question is: finland is the european country with the highest birth rate.. True or False?\n",
      "The Answer is: false\n",
      "\n",
      "cairo is now home to some 15 million people - a burgeoning population that produces approximately 10,000 tonnes of rubbish per day, putting an enormous strain on public services. in the past 10 years, the government has tried hard to encourage private investment in the refuse sector, but some estimate 4,000 tonnes of waste is left behind every day, festering in the heat as it waits for someone to clear it up. it is often the people in the poorest neighbourhoods that are worst affected. but in some areas they are fighting back. in shubra, one of the northern districts of the city, the residents have taken to the streets armed with dustpans and brushes to clean up public areas which have been used as public dumps.\n",
      " The question is: 15 million tonnes of rubbish are produced daily in cairo.. True or False?\n",
      "The Answer is:\n"
     ]
    },
    {
     "data": {
      "text/plain": [
       "tensor([[0.5506, 0.4494]])"
      ]
     },
     "execution_count": 11,
     "metadata": {},
     "output_type": "execute_result"
    }
   ],
   "source": [
    "attack_sample = \"\"\"[[[[Premise]]]]: cairo is now home to some 15 million people - a burgeoning population that produces approximately 10,000 tonnes of rubbish per day, putting an enormous strain on public services. in the past 10 years, the government has tried hard to encourage private investment in the refuse sector, but some estimate 4,000 tonnes of waste is left behind every day, festering in the heat as it waits for someone to clear it up. it is often the people in the poorest neighbourhoods that are worst affected. but in some areas they are fighting back. in shubra, one of the northern districts of the city, the residents have taken to the streets armed with dustpans and brushes to clean up public areas which have been used as public dumps.<SPLIT>[[[[Hypothesis]]]]: 15 million tonnes of rubbish are produced daily in cairo.<SPLIT>[[[[Premise_0]]]]: george herbert walker bush (born june 12, 1924) is the former 41st president of the united states of america. almost immediately upon his return from the war in december 1944, george bush married barbara pierce.<SPLIT>[[[[Hypothesis_0]]]]: the name of george h.w. bush's wife is barbara.<SPLIT>[[[[Label_0]]]]: true<SPLIT>[[[[Premise_1]]]]: it rewrites the rules of global trade, established by the general agreement on tariffs and trade, or gatt, in 1947, and modified in multiple rounds of negotiations since then.<SPLIT>[[[[Hypothesis_1]]]]: gatt was formed in 1947.<SPLIT>[[[[Label_1]]]]: false<SPLIT>[[[[Premise_2]]]]: us military forces are evacuating u.s. citizens and citizens of 72 other countries from liberia at the request of the u.s.<SPLIT>[[[[Hypothesis_2]]]]: u.s. military evacuated u.s. citizens.<SPLIT>[[[[Label_2]]]]: true<SPLIT>[[[[Premise_3]]]]: floods are one of europe's most widespread disasters. major flooding has occurred nearly every year somewhere on our continent during the last few decades.<SPLIT>[[[[Hypothesis_3]]]]: flooding in europe causes major economic losses.<SPLIT>[[[[Label_3]]]]: [[true]]<SPLIT>[[[[Premise_4]]]]: rock stars aerosmith are to hold a free concert in hawaii to placate angry fans who brought a legal case against them. the walk this way hitmakers cancelled a sold-out show in maui two years ago, leaving hundreds of fans out of pocket. they filed a class action case, which claimed the band had pulled out in favour of a bigger gig in chicago and a private show for car dealers in oahu. lawyers for the would-be concert-goers said aerosmith had now agreed to put on a new show, and would pay all expenses.<SPLIT>[[[[Hypothesis_4]]]]: aerosmith are a rock band.<SPLIT>[[[[Label_4]]]]: true<SPLIT>[[[[Premise_5]]]]: one reason for increased osteoporosis in developed countries is the sodium-potassium imbalance.<SPLIT>[[[[Hypothesis_5]]]]: dietary intake of potassium prevents osteoporosis.<SPLIT>[[[[Label_5]]]]: [[true]]<SPLIT>[[[[Premise_6]]]]: jerusalem, april 2 (xinhua) -- israel's new foreign minister avigdor lieberman was questioned by police on thursday over several criminal allegations, local news service ynet reported.  national fraud unit investigators questioned the deputy premier, who is suspected of bribery, money laundering, fraud and breach of trust, for over seven hours, and another round is in the cards, said the report.  \"\"lieberman answered all of the questions he was asked, and will continue to do so in the future,\"\" his attorney yaron kostelitz was quoted as saying.<SPLIT>[[[[Hypothesis_6]]]]: avigdor lieberman is the foreign minister of israel.<SPLIT>[[[[Label_6]]]]: true<SPLIT>[[[[Premise_7]]]]: other friends were not surprised at his death. \"\"i wasn't surprised,\"\" said george stranahan, a former owner of the woody creek tavern, a favourite haunt of thompson. \"\"i never expected hunter to die in a hospital bed with tubes coming out of him.\"\" neighbours have said how his broken leg had prevented him from leaving his house as often as he had liked to. one neighbour and long-standing friend, mike cleverly, said thompson was clearly hobbled by the broken leg. \"\"medically speaking, he's had a rotten year.\"\"<SPLIT>[[[[Hypothesis_7]]]]: the woody creek tavern is owned by george stranahan.<SPLIT>[[[[Label_7]]]]: false<SPLIT>[[[[Premise_8]]]]: witching hour passed and potter fans poured into bookshops around the world on saturday, snatching up copies of the latest instalment in the series that promises to be the fastest-selling book in history.<SPLIT>[[[[Hypothesis_8]]]]: potter fans rushed to tills in order to purchase the book.<SPLIT>[[[[Label_8]]]]: true<SPLIT>[[[[Premise_9]]]]: alan mulally, boeing's head of the unit, said at the start of the strike that it may cause delivery delays that would give airbus sas an advantage in what is the strongest commercial aircraft market in five years.<SPLIT>[[[[Hypothesis_9]]]]: alan mulally is the owner of boeing.<SPLIT>[[[[Label_9]]]]: false<SPLIT>[[[[Premise_10]]]]: to promote the simpsons movie that will be released july 26, 2007, over a dozen 7-elevens in the united states have been transformed into kwik-e-marts, the grocery store from the popular tv series. most of the other 7-eleven stores will also sell products with brands reminding of the simpsons, such as buzz cola, krustyo's cereal, squishees, and bart simpson's favourite comic book radioactive man, but not duff beer, homer's favourite drink.<SPLIT>[[[[Hypothesis_10]]]]: the simpsons is a show broadcast in america.<SPLIT>[[[[Label_10]]]]: true<SPLIT>[[[[Premise_11]]]]: he is like some great writers, from charles dickens to william faulkner to gabriel garcia marquez: the insistence on the value of the local leads to the universal.<SPLIT>[[[[Hypothesis_11]]]]: gabriel garcia marquez is a nobel prize winner.<SPLIT>[[[[Label_11]]]]: false<SPLIT>[[[[Premise_12]]]]: colin l. powell and laura bush, wife of gov. george w. bush, are to speak on the opening night in philadelphia, while the democrats have tentative plans to have president clinton and hillary rodham clinton address the delegates on the first night in los angeles.<SPLIT>[[[[Hypothesis_12]]]]: the name of george w. bush's wife is laura.<SPLIT>[[[[Label_12]]]]: true<SPLIT>[[[[Premise_13]]]]: after insulting the un committee insinuating they were irrelavant, bush no sooner had approval from congress to use \"\"force/war\"\" if hussein did not permit unfettered access for inspections - and the war ships were moved into place on the gulf.<SPLIT>[[[[Hypothesis_13]]]]: hussein gives un inspectors unfettered access.<SPLIT>[[[[Label_13]]]]: [[true]]<SPLIT>[[[[Premise_14]]]]: while local cab drivers had compliments, not everyone appreciated the company. the chicago cubs decided to cancel their booking after hearing about the con, and j.j. hardy of the milwaukee brewers reported being kept up by fans on wednesday night. the brewers lost their game the following day. the convention closed with next year's date ―june 26-29 ―along with the announcement of a guest: disney animator floyd norman. the event's theme will be \"\"it's a jungle out there!\"\".<SPLIT>[[[[Hypothesis_14]]]]: j.j. hardy has a contract with the milwaukee brewers.<SPLIT>[[[[Label_14]]]]: true<SPLIT>[[[[Premise_15]]]]: for a western european country, the birth rate in finland is high.<SPLIT>[[[[Hypothesis_15]]]]: finland is the european country with the highest birth rate.<SPLIT>[[[[Label_15]]]]: false\"\"\"\n",
    "\n",
    "attack_sample = attack_sample.split(\"<SPLIT>\")\n",
    "demons = [demon.split(\":\")[1].strip('\\n ').strip('[]') for demon in attack_sample]\n",
    "# print(demons)\n",
    "question = (demons[0], demons[1], \"\")\n",
    "icl_examples = []\n",
    "demons = demons[2:]\n",
    "for i in range(len(demons) // 3):\n",
    "    icl_examples.append((demons[i * 3], demons[i * 3 + 1], demons[i * 3 + 2]))\n",
    "\n",
    "template = \"{}\\n The question is: {}. True or False?\\nThe Answer is: {}\"\n",
    "verbalizer = {0: \"true\", 1: \"false\"}\n",
    "\n",
    "demos = []\n",
    "for demo in icl_examples:\n",
    "    demos.append(template.format(demo[0], demo[1], demo[2]))\n",
    "q = template.format(question[0], question[1], \"\").strip()\n",
    "\n",
    "prompt = \"\\n\\n\".join(demos) + \"\\n\\n\" + q\n",
    "\n",
    "# print(prompt)\n",
    "tokenized = tokenizer(prompt, return_tensors=\"pt\", padding=True).to('cuda')\n",
    "logits = model(**tokenized).logits\n",
    "output = logits[:, -1, :].detach().cpu()\n",
    "\n",
    "print(tokenizer.decode(output.argmax(dim=-1)))\n",
    "\n",
    "print(prompt)\n",
    "\n",
    "output_label = output[:, label_id].softmax(dim=-1)\n",
    "output_label"
   ]
  },
  {
   "cell_type": "code",
   "execution_count": 18,
   "metadata": {},
   "outputs": [
    {
     "data": {
      "text/plain": [
       "{'input_ids': [1, 5852], 'attention_mask': [1, 1]}"
      ]
     },
     "execution_count": 18,
     "metadata": {},
     "output_type": "execute_result"
    }
   ],
   "source": [
    "tokenizer(\"True\")"
   ]
  },
  {
   "cell_type": "code",
   "execution_count": null,
   "metadata": {},
   "outputs": [],
   "source": [
    "demonstration = [(\"george herbert walker bush (born june 12, 1924) is the former 41st president of the united states of america. almost immediately upon his return from the war in december 1944, george bush married barbara pierce.\", \"the name of george h.w. bush's wife is barbara.\", 0),\n",
    "                 (\"it rewrites the rules of global trade, established by the general agreement on tariffs and trade, or gatt, in 1947, and modified in multiple rounds of negotiations since then.\", \"gatt was formed in 1947.\", 1),\n",
    "                    (\"us military forces are evacuating u.s. citizens and citizens of 72 other countries from liberia at the request of the u.s.\", \"u.s. military evacuated u.s. citizens.\", 0),\n",
    "                    (\"floods are one of europe's most widespread disasters. major flooding has occurred nearly every year somewhere on our continent during the last few decades.\", \"flooding in europe causes major economic losses.\", 1),\n",
    "                    (\"rock stars aerosmith are to hold a free concert in hawaii to placate angry fans who brought a legal case against them. the walk this way hitmakers cancelled a sold-out show in maui two years ago, leaving hundreds of fans out of pocket. they filed a class action case, which claimed the band had pulled out in favour of a bigger gig in chicago and a private show for car dealers in oahu. lawyers for the would-be concert-goers said aerosmith had now agreed to put on a new show, and would pay all expenses.\", \"aerosmith are a rock band.\", 0),\n",
    "                    (\"one reason for increased osteoporosis in developed countries is the sodium-potassium imbalance.\", \"dietary intake of potassium prevents osteoporosis.\", 1)]\n",
    "\n",
    "template = [\"Premise: {}\\nHypothesis: {}\\nPrediction: {}\",\n",
    "            \"{}\\nThe question is: {}. True or False?\\nAnswer: {}\"]\n",
    "verbalizer = {0: \"true\", 1: \"false\"}\n",
    "# Premise: jerusalem, april 2 (xinhua) -- israel's new foreign minister avigdor lieberman was questioned by police on thursday over several criminal allegations, local news service ynet reported.  national fraud unit investigators questioned the deputy premier, who is suspected of bribery, money laundering, fraud and breach of trust, for over seven hours, and another round is in the cards, said the report.  \"lieberman answered all of the questions he was asked, and will continue to do so in the future,\" his attorney yaron kostelitz was quoted as saying.\n",
    "# Hypothesis: avigdor lieberman is the foreign minister of israel.\n",
    "# Prediction: false\n",
    "\n",
    "# Premise: other friends were not surprised at his death. \"i wasn't surprised,\" said george stranahan, a former owner of the woody creek tavern, a favourite haunt of thompson. \"i never expected hunter to die in a hospital bed with tubes coming out of him.\" neighbours have said how his broken leg had prevented him from leaving his house as often as he had liked to. one neighbour and long-standing friend, mike cleverly, said thompson was clearly hobbled by the broken leg. \"medically speaking, he's had a rotten year.\"\n",
    "# Hypothesis: the woody creek tavern is owned by george stranahan.\n",
    "# Prediction: true\n",
    "# \"\"\"\n",
    "\n",
    "questions = [(\"jerusalem, april 2 (xinhua) -- israel's new foreign minister avigdor lieberman was questioned by police on thursday over several criminal allegations, local news service ynet reported.  national fraud unit investigators questioned the deputy premier, who is suspected of bribery, money laundering, fraud and breach of trust, for over seven hours, and another round is in the cards, said the report.  \\\"lieberman answered all of the questions he was asked, and will continue to do so in the future,\\\" his attorney yaron kostelitz was quoted as saying.\", \"avigdor lieberman is the foreign minister of israel.\", 0), \n",
    "            (\"other friends were not surprised at his death. \\\"i wasn\\'t surprised,\\\" said george stranahan, a former owner of the woody creek tavern, a favourite haunt of thompson. \\\"i never expected hunter to die in a hospital bed with tubes coming out of him.\\\" neighbours have said how his broken leg had prevented him from leaving his house as often as he had liked to. one neighbour and long-standing friend, mike cleverly, said thompson was clearly hobbled by the broken leg. \\\"medically speaking, he\\'s had a rotten year.\", \"the woody creek tavern is owned by george stranahan.\", 1)]\n",
    "# question = \"Premise: he also referred to the \\\"illegal\\\" arrest on 31 may of mexican professor maria eugenia ochoa garcia, whom the salvadoran government accused of having connections with the salvadoran guerrillas.\\nHypothesis: professor ochoa garcia is a member of the salvadoran government.\\nPrediction:\"\n",
    "for question in questions:\n",
    "    for tem in template:\n",
    "        demos = []\n",
    "        for demo in demonstration:\n",
    "            demos.append(tem.format(demo[0], demo[1], verbalizer[demo[2]]))\n",
    "        q = tem.format(question[0], question[1], \"\").strip()\n",
    "\n",
    "        prompt = \"\\n\".join(demos) + \"\\n\" + q\n",
    "\n",
    "        tokenized = tokenizer(prompt, return_tensors=\"pt\", padding=True).to('cuda')\n",
    "        logits = model(**tokenized).logits\n",
    "        output = logits[:, -1, :].detach().cpu()\n",
    "\n",
    "        print(tokenizer.decode(torch.argmax(output, dim=-1).squeeze().tolist()))"
   ]
  },
  {
   "cell_type": "code",
   "execution_count": 20,
   "metadata": {},
   "outputs": [
    {
     "name": "stdout",
     "output_type": "stream",
     "text": [
      "Length of prompt_ids_list:  100\n"
     ]
    },
    {
     "name": "stderr",
     "output_type": "stream",
     "text": [
      "100%|██████████| 13/13 [00:03<00:00,  3.67it/s]"
     ]
    },
    {
     "name": "stdout",
     "output_type": "stream",
     "text": [
      "Counter({'positive': 97, 'negative': 3})\n"
     ]
    },
    {
     "name": "stderr",
     "output_type": "stream",
     "text": [
      "\n"
     ]
    }
   ],
   "source": [
    "from itertools import permutations\n",
    "from tqdm import tqdm\n",
    "import numpy as np\n",
    "from collections import Counter\n",
    "instructions = \"Classify the sentiment of negative and positive.\"\n",
    "icl_samples = [\"Review: is a step down for director gary fleder . \\nSentiment: negative\",\n",
    "               \"Review: the director , tom dey , had spliced together bits and pieces of midnight run and 48 hours ( and , for that matter , shrek ) . \\nSentiment: positive\",\n",
    "                \"Review: from two fatal ailments -- a dearth of vitality and a story that 's shapeless and uninflected . \\nSentiment: negative\",\n",
    "                \"Review: results that are sometimes bracing . \\nSentiment: positive\",\n",
    "                \"Review: plodding soap opera . \\nSentiment: negative\",\n",
    "                \"Review: all-star salute . \\nSentiment: positive\",\n",
    "                \"Review: fit all of pootie tang in between its punchlines . \\nSentiment: negative\",\n",
    "                \"Review: award-winning . \\nSentiment: positive\",\n",
    "                \"Review: deserve better . \\nSentiment: negative\",\n",
    "                \"Review: you actually buy into \\nSentiment: positive\",\n",
    "                \"Review: of cliches that shoplifts shamelessly from farewell-to-innocence movies like the wanderers and a bronx tale without cribbing any of their intelligence . \\nSentiment: negative\",\n",
    "                \"Review: real-life basis is , in fact , so interesting that no embellishment is \\nSentiment: positive\",\n",
    "                \"Review: to insulting the intelligence of anyone who has n't been living under a rock \\nSentiment: negative\",\n",
    "                \"Review: immensely ambitious \\nSentiment: positive\",\n",
    "                \"Review: into the modern rut of narrative banality \\nSentiment: negative\",\n",
    "                \"Review: user-friendly \\nSentiment: positive\"]\n",
    "sample = \"\"\"or doing last year 's taxes with your ex-wife . \\nSentiment:\"\"\"\n",
    "\n",
    "prompt_ids_list = []\n",
    "i = 0\n",
    "# permutation = np.random.permutation(len(icl_samples))\n",
    "# icl_samples = [icl_samples[i] for i in permutation]\n",
    "\n",
    "np.random.seed(1)\n",
    "for order in range(100):\n",
    "    permutation = np.random.permutation(len(icl_samples))\n",
    "    order = [icl_samples[i] for i in permutation]\n",
    "    prompt = '\\n\\n'.join(order) + '\\n\\n' + sample\n",
    "    # prompt_ids = tokenizer.encode(prompt, return_tensors=\"pt\")\n",
    "    # prompt_ids = prompt_ids.to('cuda')\n",
    "\n",
    "    prompt_ids_list.append((prompt))\n",
    "    i += 1\n",
    "\n",
    "print('Length of prompt_ids_list: ', len(prompt_ids_list))\n",
    "\n",
    "batch_size = 8\n",
    "prompt_ids_list = [prompt_ids_list[i:i + batch_size] for i in range(0, len(prompt_ids_list), batch_size)]\n",
    "\n",
    "# convert prompt_ids_list to dataloader\n",
    "# prompt_ids_list = torch.utils.data.DataLoader(prompt_ids_list, batch_size=batch_size, shuffle=False)\n",
    "\n",
    "outputs = []\n",
    "for batch in tqdm(prompt_ids_list):\n",
    "    batch = tokenizer.batch_encode_plus(batch, return_tensors=\"pt\", padding=True, truncation=True).to('cuda')\n",
    "    output = model(batch['input_ids'], return_dict=True).logits\n",
    "    output = output[:, -1, :].detach().cpu()\n",
    "    # outputs += tokenizer.batch_decode(torch.argmax(output, dim=-1).squeeze().tolist())\n",
    "    outputs += (tokenizer.batch_decode(torch.argmax(output, dim=-1).squeeze().tolist()))\n",
    "    del batch\n",
    "    \n",
    "print(Counter(outputs))\n",
    "# prompt = '\\n\\n'.join(icl_samples) + '\\n\\n' + sample\n",
    "# prompt_ids = tokenizer.encode(prompt, return_tensors=\"pt\")\n",
    "# prompt_ids = prompt_ids.to('cuda')\n",
    "\n",
    "# output = model(prompt_ids, return_dict=True).logits\n",
    "# print(output.shape)\n",
    "# output = output[:, -1, :]\n",
    "# tokenizer.decode(torch.argmax(output, dim=-1).squeeze().tolist())"
   ]
  },
  {
   "cell_type": "code",
   "execution_count": 50,
   "metadata": {},
   "outputs": [
    {
     "data": {
      "text/plain": [
       "{'input_ids': [1, 16403], 'attention_mask': [1, 1]}"
      ]
     },
     "execution_count": 50,
     "metadata": {},
     "output_type": "execute_result"
    }
   ],
   "source": [
    "tokenizer(\"terrible\")"
   ]
  },
  {
   "cell_type": "code",
   "execution_count": 24,
   "metadata": {},
   "outputs": [
    {
     "name": "stdout",
     "output_type": "stream",
     "text": [
      "tensor([193, 167], device='cuda:0')\n"
     ]
    },
    {
     "data": {
      "text/plain": [
       "[' negative', ' positive']"
      ]
     },
     "execution_count": 24,
     "metadata": {},
     "output_type": "execute_result"
    }
   ],
   "source": [
    "prompt = \"\"\"Classify the sentiment of positive and negative.\n",
    "Review: i would recommend big bad love only to winger fans who have missed her since 1995 's forget paris . .\n",
    "Sentiment: negative\n",
    "Review: suspenseful enough for older kids but not .\n",
    "Sentiment: positive\n",
    "Review: another run-of-the-mill disney sequel intended for the home video market .\n",
    "Sentiment: negative\n",
    "Review: has never been smoother or more confident .\n",
    "Sentiment: positive\n",
    "Review: bad-movie .\n",
    "Sentiment: negative\n",
    "Review: sweetly .\n",
    "Sentiment: positive\n",
    "Review: like an extended dialogue exercise in retard 101 .\n",
    "Sentiment: negative\n",
    "Review: bouquet gives a performance that is masterly . .\n",
    "Sentiment: positive\"\"\"\n",
    "\n",
    "input1 = \"Review: one of creepiest, scariest movies to come along in a long, long time, easily rivaling blair witch or the others. \\nSentiment:\"\n",
    "input2 = \"Review: good movie . \\nSentiment:\"\n",
    "\n",
    "prompt_ids = gpt_tokenizer.encode(prompt, return_tensors=\"pt\")\n",
    "inputs1 = prompt + input1\n",
    "inputs2 = prompt + input2\n",
    "\n",
    "inputs = [inputs1, inputs2]\n",
    "# inputs = [inputs1, inputs1]\n",
    "\n",
    "gpt_tokenizer.pad_token = gpt_tokenizer.eos_token\n",
    "input_ids = gpt_tokenizer.batch_encode_plus(inputs, return_tensors=\"pt\", padding=True, truncation=True)['input_ids'].to('cuda')\n",
    "\n",
    "attention_mask = input_ids.ne(gpt_tokenizer.pad_token_id).float().to('cuda')\n",
    "output = gpt_model(input_ids, attention_mask=attention_mask, return_dict=True).logits\n",
    "\n",
    "last_non_pad_indices = torch.ne(input_ids, gpt_tokenizer.pad_token_id).sum(-1) - 1\n",
    "print(last_non_pad_indices)\n",
    "output = output[range(output.shape[0]), last_non_pad_indices, :]\n",
    "\n",
    "gpt_tokenizer.batch_decode(torch.argmax(output, dim=-1).squeeze().tolist())"
   ]
  },
  {
   "cell_type": "code",
   "execution_count": 33,
   "metadata": {},
   "outputs": [
    {
     "name": "stdout",
     "output_type": "stream",
     "text": [
      "torch.Size([1, 90, 32000])\n"
     ]
    },
    {
     "data": {
      "text/plain": [
       "'negative'"
      ]
     },
     "execution_count": 33,
     "metadata": {},
     "output_type": "execute_result"
    }
   ],
   "source": [
    "prompt = \"Classify the sentiment of positive and negative.\\n Review: i would recommend big bad love only to winger fans who have missed her since 1995 's forget paris.Sentiment: negative\\nReview:  suspenseful enough for older kids but not . \\nSentiment: positive\\n\"\n",
    "\n",
    "input = \"Review: the cd is not suitable for children . \\nSentiment:\"\n",
    "# try with the mistral tokenizer and model\n",
    "\n",
    "prompt_ids = mistral_tokenizer.encode(prompt, return_tensors=\"pt\")\n",
    "input_ids = mistral_tokenizer.encode(input, return_tensors=\"pt\")\n",
    "\n",
    "input_ids = torch.cat([prompt_ids, input_ids[:, 1:]], dim=-1).to('cuda')\n",
    "\n",
    "# add 10 padding tokens to the end of the input\n",
    "input_ids = torch.cat([input_ids, torch.ones((1, 10)).long().to('cuda')], dim=-1)\n",
    "\n",
    "attention_mask = input_ids != 1\n",
    "\n",
    "output = mistral_model(input_ids, attention_mask=attention_mask, return_dict=True).logits\n",
    "print(output.shape)\n",
    "output = output[:, len(input_ids[0]) - 11, :]\n",
    "mistral_tokenizer.decode(torch.argmax(output, dim=-1).squeeze().tolist())"
   ]
  },
  {
   "cell_type": "code",
   "execution_count": 22,
   "metadata": {},
   "outputs": [
    {
     "data": {
      "text/plain": [
       "{'input_ids': [1, 1598], 'attention_mask': [1, 1]}"
      ]
     },
     "execution_count": 22,
     "metadata": {},
     "output_type": "execute_result"
    }
   ],
   "source": [
    "mistral_tokenizer(\"great\")"
   ]
  },
  {
   "cell_type": "code",
   "execution_count": 51,
   "metadata": {},
   "outputs": [
    {
     "data": {
      "text/plain": [
       "{'input_ids': [353, 5547], 'attention_mask': [1, 1]}"
      ]
     },
     "execution_count": 51,
     "metadata": {},
     "output_type": "execute_result"
    }
   ],
   "source": [
    "gpt_tokenizer(\" terrible\")"
   ]
  },
  {
   "cell_type": "code",
   "execution_count": null,
   "metadata": {},
   "outputs": [],
   "source": []
  }
 ],
 "metadata": {
  "kernelspec": {
   "display_name": "Python 3 (ipykernel)",
   "language": "python",
   "name": "python3"
  },
  "language_info": {
   "codemirror_mode": {
    "name": "ipython",
    "version": 3
   },
   "file_extension": ".py",
   "mimetype": "text/x-python",
   "name": "python",
   "nbconvert_exporter": "python",
   "pygments_lexer": "ipython3",
   "version": "3.8.10"
  }
 },
 "nbformat": 4,
 "nbformat_minor": 4
}
