{
 "cells": [
  {
   "cell_type": "code",
   "execution_count": 6,
   "metadata": {},
   "outputs": [],
   "source": [
    "from datasets import load_dataset\n",
    "from collections import Counter\n",
    "from tqdm import tqdm"
   ]
  },
  {
   "cell_type": "code",
   "execution_count": 30,
   "metadata": {},
   "outputs": [
    {
     "name": "stderr",
     "output_type": "stream",
     "text": [
      "Filter: 100%|██████████| 708241/708241 [00:07<00:00, 94710.83 examples/s] \n"
     ]
    }
   ],
   "source": [
    "ood_data = load_dataset(\"cc_news\")\n",
    "ood_data_less_than = ood_data[\"train\"].filter(lambda x: len(x[\"text\"]) < 1024)\n",
    "# filter duplicate\n"
   ]
  },
  {
   "cell_type": "code",
   "execution_count": 31,
   "metadata": {},
   "outputs": [
    {
     "name": "stderr",
     "output_type": "stream",
     "text": [
      "100%|██████████| 168418/168418 [00:00<00:00, 660422.31it/s]\n"
     ]
    }
   ],
   "source": [
    "# Save as ./ood/ood_cc_news.txt\n",
    "ood_data_less_than = ood_data_less_than[\"text\"]\n",
    "ood_data_less_than = list(set(ood_data_less_than))\n",
    "\n",
    "with open(\"./ood/ood_cc_news.txt\", \"w\") as f:\n",
    "    for item in tqdm(ood_data_less_than):\n",
    "        f.write(item + \"\\n\")\n",
    "    f.close()"
   ]
  },
  {
   "cell_type": "code",
   "execution_count": 32,
   "metadata": {},
   "outputs": [
    {
     "name": "stderr",
     "output_type": "stream",
     "text": [
      "  1%|          | 6069/708241 [00:00<00:11, 60681.38it/s]"
     ]
    },
    {
     "name": "stderr",
     "output_type": "stream",
     "text": [
      "100%|██████████| 708241/708241 [00:13<00:00, 53844.12it/s]\n"
     ]
    }
   ],
   "source": [
    "# count the number of words in each sentence\n",
    "sent_length = Counter([len(x.split()) for x in tqdm(ood_data[\"train\"][\"text\"])])"
   ]
  },
  {
   "cell_type": "code",
   "execution_count": 18,
   "metadata": {},
   "outputs": [
    {
     "data": {
      "text/plain": [
       "<BarContainer object of 485 artists>"
      ]
     },
     "execution_count": 18,
     "metadata": {},
     "output_type": "execute_result"
    },
    {
     "data": {
      "image/png": "[encoded data removed]",
      "text/plain": [
       "<Figure size 1000x500 with 1 Axes>"
      ]
     },
     "metadata": {},
     "output_type": "display_data"
    }
   ],
   "source": [
    "# draw the histogram\n",
    "from matplotlib import pyplot as plt\n",
    "import numpy as np\n",
    "\n",
    "sent_length = dict({k: v for k, v in sent_length.items() if k < 500})\n",
    "plt.figure(figsize=(10, 5))\n",
    "plt.bar(sent_length.keys(), sent_length.values())"
   ]
  },
  {
   "cell_type": "code",
   "execution_count": 19,
   "metadata": {},
   "outputs": [
    {
     "data": {
      "text/plain": [
       "516726"
      ]
     },
     "execution_count": 19,
     "metadata": {},
     "output_type": "execute_result"
    }
   ],
   "source": [
    "sum(sent_length.values())"
   ]
  },
  {
   "cell_type": "code",
   "execution_count": null,
   "metadata": {},
   "outputs": [],
   "source": []
  }
 ],
 "metadata": {
  "kernelspec": {
   "display_name": "Python 3",
   "language": "python",
   "name": "python3"
  },
  "language_info": {
   "codemirror_mode": {
    "name": "ipython",
    "version": 3
   },
   "file_extension": ".py",
   "mimetype": "text/x-python",
   "name": "python",
   "nbconvert_exporter": "python",
   "pygments_lexer": "ipython3",
   "version": "3.8.10"
  },
  "orig_nbformat": 4
 },
 "nbformat": 4,
 "nbformat_minor": 2
}
