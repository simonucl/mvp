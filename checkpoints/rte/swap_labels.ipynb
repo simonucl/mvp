{
 "cells": [
  {
   "cell_type": "code",
   "execution_count": 37,
   "metadata": {},
   "outputs": [],
   "source": [
    "import pandas as pd\n",
    "import numpy as np\n",
    "import os"
   ]
  },
  {
   "cell_type": "code",
   "execution_count": 60,
   "metadata": {},
   "outputs": [],
   "source": [
    "models = [\n",
    "    'Llama-2-7b-hf_attack_results.csv',\n",
    "    'Llama-2-13b-hf_attack_results.csv',\n",
    "    'Mistral-7B-v0.1_attack_results.csv',\n",
    "    'Mixtral-8x7B-v0.1_attack_results.csv',\n",
    "    'gemma-7b_attack_results.csv',\n",
    "    'vicuna-7b-v1.5_attack_results.csv'\n",
    "]\n",
    "seeds = [1,13,42]\n",
    "retrievers = ['bm25', 'sbert', 'instructor']\n",
    "attacks = ['swap_labels']"
   ]
  },
  {
   "cell_type": "code",
   "execution_count": 61,
   "metadata": {},
   "outputs": [],
   "source": [
    "def get_metrics(df):\n",
    "    clean_acc = df['correct'].value_counts()[True] / df['correct'].value_counts().sum()\n",
    "    attack_acc = df['attack_correct'].value_counts()[True] / df['attack_correct'].value_counts().sum()\n",
    "    asr = (clean_acc - attack_acc) / clean_acc\n",
    "    return {\n",
    "        'clean_acc': clean_acc,\n",
    "        'attack_acc': attack_acc,\n",
    "        'asr': asr\n",
    "    }"
   ]
  },
  {
   "cell_type": "code",
   "execution_count": 62,
   "metadata": {},
   "outputs": [],
   "source": [
    "results = []\n",
    "\n",
    "for model in models:\n",
    "    for seed in seeds:\n",
    "        for attack in attacks:\n",
    "            model_name = 'icl' if attack in ['textfooler', 'textbugger', 'bert_attack'] else 'icl_attack'\n",
    "            path = f'./meta-llama/Llama-2-7b-hf/{attack}/{model_name}-seed-{seed}-shot-8/{model}'\n",
    "            if not os.path.exists(path):\n",
    "                continue\n",
    "            df = pd.read_csv(f'./meta-llama/Llama-2-7b-hf/{attack}/{model_name}-seed-{seed}-shot-8/{model}')\n",
    "            metrics = get_metrics(df)\n",
    "            results.append({\n",
    "                'model': model,\n",
    "                'seed': seed,\n",
    "                'attack': attack,\n",
    "                **metrics\n",
    "            })\n"
   ]
  },
  {
   "cell_type": "code",
   "execution_count": 63,
   "metadata": {},
   "outputs": [
    {
     "data": {
      "text/html": [
       "<div>\n",
       "<style scoped>\n",
       "    .dataframe tbody tr th:only-of-type {\n",
       "        vertical-align: middle;\n",
       "    }\n",
       "\n",
       "    .dataframe tbody tr th {\n",
       "        vertical-align: top;\n",
       "    }\n",
       "\n",
       "    .dataframe thead th {\n",
       "        text-align: right;\n",
       "    }\n",
       "</style>\n",
       "<table border=\"1\" class=\"dataframe\">\n",
       "  <thead>\n",
       "    <tr style=\"text-align: right;\">\n",
       "      <th></th>\n",
       "      <th>model</th>\n",
       "      <th>seed</th>\n",
       "      <th>attack</th>\n",
       "      <th>clean_acc</th>\n",
       "      <th>attack_acc</th>\n",
       "      <th>asr</th>\n",
       "    </tr>\n",
       "  </thead>\n",
       "  <tbody>\n",
       "    <tr>\n",
       "      <th>0</th>\n",
       "      <td>Llama-2-7b-hf_attack_results.csv</td>\n",
       "      <td>1</td>\n",
       "      <td>swap_labels</td>\n",
       "      <td>0.714801</td>\n",
       "      <td>0.245487</td>\n",
       "      <td>0.656566</td>\n",
       "    </tr>\n",
       "  </tbody>\n",
       "</table>\n",
       "</div>"
      ],
      "text/plain": [
       "                              model  seed       attack  clean_acc  attack_acc  \\\n",
       "0  Llama-2-7b-hf_attack_results.csv     1  swap_labels   0.714801    0.245487   \n",
       "\n",
       "        asr  \n",
       "0  0.656566  "
      ]
     },
     "execution_count": 63,
     "metadata": {},
     "output_type": "execute_result"
    }
   ],
   "source": [
    "results_df = pd.DataFrame(results)\n",
    "# take the mean \n",
    "# results_df = results_df.groupby('model').mean().reset_index()\n",
    "results_df\n",
    "# save as json\n",
    "# results_df.to_json('rte-meta-llama-13b-icl-swap-labels-fix-dist.json', orient='records')"
   ]
  },
  {
   "cell_type": "code",
   "execution_count": 32,
   "metadata": {},
   "outputs": [],
   "source": [
    "results = []\n",
    "for model in models:\n",
    "    for r in retrievers:\n",
    "        df = pd.read_csv(f'./meta-llama/Llama-2-13b-hf/swap_labels/retrieval_icl-seed-1-shot-8_{r}_fix_dist/{model}')\n",
    "        metrics = get_metrics(df)\n",
    "        results.append({\n",
    "            'model': model,\n",
    "            'seed': seed,\n",
    "            **metrics\n",
    "        })\n"
   ]
  },
  {
   "cell_type": "code",
   "execution_count": 33,
   "metadata": {},
   "outputs": [
    {
     "data": {
      "text/html": [
       "<div>\n",
       "<style scoped>\n",
       "    .dataframe tbody tr th:only-of-type {\n",
       "        vertical-align: middle;\n",
       "    }\n",
       "\n",
       "    .dataframe tbody tr th {\n",
       "        vertical-align: top;\n",
       "    }\n",
       "\n",
       "    .dataframe thead th {\n",
       "        text-align: right;\n",
       "    }\n",
       "</style>\n",
       "<table border=\"1\" class=\"dataframe\">\n",
       "  <thead>\n",
       "    <tr style=\"text-align: right;\">\n",
       "      <th></th>\n",
       "      <th>model</th>\n",
       "      <th>seed</th>\n",
       "      <th>clean_acc</th>\n",
       "      <th>attack_acc</th>\n",
       "      <th>asr</th>\n",
       "    </tr>\n",
       "  </thead>\n",
       "  <tbody>\n",
       "    <tr>\n",
       "      <th>0</th>\n",
       "      <td>Llama-2-13b-hf_attack_results.csv</td>\n",
       "      <td>42.0</td>\n",
       "      <td>0.747292</td>\n",
       "      <td>0.465704</td>\n",
       "      <td>0.379789</td>\n",
       "    </tr>\n",
       "    <tr>\n",
       "      <th>1</th>\n",
       "      <td>Llama-2-7b-hf_attack_results.csv</td>\n",
       "      <td>42.0</td>\n",
       "      <td>0.717208</td>\n",
       "      <td>0.599278</td>\n",
       "      <td>0.164324</td>\n",
       "    </tr>\n",
       "    <tr>\n",
       "      <th>2</th>\n",
       "      <td>Mistral-7B-v0.1_attack_results.csv</td>\n",
       "      <td>42.0</td>\n",
       "      <td>0.776173</td>\n",
       "      <td>0.620939</td>\n",
       "      <td>0.200093</td>\n",
       "    </tr>\n",
       "    <tr>\n",
       "      <th>3</th>\n",
       "      <td>Mixtral-8x7B-v0.1_attack_results.csv</td>\n",
       "      <td>42.0</td>\n",
       "      <td>0.774970</td>\n",
       "      <td>0.647413</td>\n",
       "      <td>0.164685</td>\n",
       "    </tr>\n",
       "    <tr>\n",
       "      <th>4</th>\n",
       "      <td>gemma-7b_attack_results.csv</td>\n",
       "      <td>42.0</td>\n",
       "      <td>0.764140</td>\n",
       "      <td>0.555957</td>\n",
       "      <td>0.273990</td>\n",
       "    </tr>\n",
       "    <tr>\n",
       "      <th>5</th>\n",
       "      <td>vicuna-7b-v1.5_attack_results.csv</td>\n",
       "      <td>42.0</td>\n",
       "      <td>0.772563</td>\n",
       "      <td>0.726835</td>\n",
       "      <td>0.059155</td>\n",
       "    </tr>\n",
       "  </tbody>\n",
       "</table>\n",
       "</div>"
      ],
      "text/plain": [
       "                                  model  seed  clean_acc  attack_acc       asr\n",
       "0     Llama-2-13b-hf_attack_results.csv  42.0   0.747292    0.465704  0.379789\n",
       "1      Llama-2-7b-hf_attack_results.csv  42.0   0.717208    0.599278  0.164324\n",
       "2    Mistral-7B-v0.1_attack_results.csv  42.0   0.776173    0.620939  0.200093\n",
       "3  Mixtral-8x7B-v0.1_attack_results.csv  42.0   0.774970    0.647413  0.164685\n",
       "4           gemma-7b_attack_results.csv  42.0   0.764140    0.555957  0.273990\n",
       "5     vicuna-7b-v1.5_attack_results.csv  42.0   0.772563    0.726835  0.059155"
      ]
     },
     "execution_count": 33,
     "metadata": {},
     "output_type": "execute_result"
    }
   ],
   "source": [
    "results_df = pd.DataFrame(results)\n",
    "# take the mean \n",
    "results_df = results_df.groupby('model').mean().reset_index()\n",
    "results_df.to_json('rte-meta-llama-13b-ricl-swap-labels-fix-dist.json', orient='records')\n",
    "results_df"
   ]
  },
  {
   "cell_type": "code",
   "execution_count": null,
   "metadata": {},
   "outputs": [],
   "source": []
  }
 ],
 "metadata": {
  "kernelspec": {
   "display_name": "Python 3",
   "language": "python",
   "name": "python3"
  },
  "language_info": {
   "codemirror_mode": {
    "name": "ipython",
    "version": 3
   },
   "file_extension": ".py",
   "mimetype": "text/x-python",
   "name": "python",
   "nbconvert_exporter": "python",
   "pygments_lexer": "ipython3",
   "version": "3.8.0"
  },
  "orig_nbformat": 4
 },
 "nbformat": 4,
 "nbformat_minor": 2
}
